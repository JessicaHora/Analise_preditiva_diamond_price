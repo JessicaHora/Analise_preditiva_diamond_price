{
 "cells": [
  {
   "cell_type": "markdown",
   "id": "55edf8b9-951e-4ba0-aec7-9bfc79b7ad74",
   "metadata": {},
   "source": []
  },
  {
   "cell_type": "code",
   "execution_count": 1,
   "id": "35ce802d-df98-4747-a4f9-178132ead16e",
   "metadata": {},
   "outputs": [],
   "source": [
    "import numpy as np\n",
    "import pandas as pd\n",
    "import matplotlib.pyplot as plt\n",
    "import seaborn as sns\n",
    "import os\n",
    "%matplotlib inline"
   ]
  },
  {
   "cell_type": "code",
   "execution_count": 2,
   "id": "49fd0c47-25a4-4669-81e4-31441787a190",
   "metadata": {},
   "outputs": [],
   "source": [
    "DATA_DIR = '../data'\n",
    "FILE_NAME = 'diamonds.csv'\n",
    "data_path = os.path.join(DATA_DIR, FILE_NAME)\n",
    "diamonds = pd.read_csv(data_path)\n",
    "diamonds = diamonds.loc[(diamonds['x']>0) | (diamonds['y']>0)]\n",
    "diamonds.loc[11182, 'x'] = diamonds['x'].median()\n",
    "diamonds.loc[11182, 'z'] = diamonds['z'].median()\n",
    "diamonds = diamonds.loc[~((diamonds['y'] > 30) | (diamonds['z'] > 30))]\n",
    "diamonds = pd.concat([diamonds, pd.get_dummies(diamonds['cut'], prefix='cut', drop_first=True)], axis=1)\n",
    "diamonds = pd.concat([diamonds, pd.get_dummies(diamonds['color'], prefix='color', drop_first=True)], axis=1)\n",
    "diamonds = pd.concat([diamonds, pd.get_dummies(diamonds['clarity'], prefix='clarity', drop_first=True)], axis=1)"
   ]
  },
  {
   "cell_type": "code",
   "execution_count": 3,
   "id": "8e3ea4d9-a045-4887-8464-e24a2621ed9d",
   "metadata": {},
   "outputs": [],
   "source": [
    "X = diamonds.drop(['cut','color','clarity','price'], axis=1)\n",
    "y = diamonds['price']"
   ]
  },
  {
   "cell_type": "code",
   "execution_count": 4,
   "id": "5d367546-153d-462d-8789-be35d51c9477",
   "metadata": {},
   "outputs": [],
   "source": [
    "from sklearn.model_selection import train_test_split\n",
    "X_train, X_test, y_train, y_test = train_test_split(X, y, test_size=0.1, random_state=123)"
   ]
  },
  {
   "cell_type": "markdown",
   "id": "af9ba5ad-cf7c-43eb-941e-528a310233e6",
   "metadata": {},
   "source": [
    "## Executar a redução de dimensionalidade em x, y e z com PCA:"
   ]
  },
  {
   "cell_type": "code",
   "execution_count": 5,
   "id": "dae6c1cf-8e01-4591-a99e-2074ff56ca18",
   "metadata": {},
   "outputs": [],
   "source": [
    "from sklearn.decomposition import PCA\n",
    "pca = PCA(n_components=1, random_state=123)\n",
    "pca.fit(X_train[['x','y','z']])\n",
    "X_train['dim_index'] = pca.transform(X_train[['x','y','z']]).flatten()\n",
    "X_train.drop(['x','y','z'], axis=1, inplace=True)"
   ]
  },
  {
   "cell_type": "markdown",
   "id": "72dfc747-12fc-4166-9e17-2d5a2216ff5b",
   "metadata": {},
   "source": [
    "### Padronizar os recursos numéricos:"
   ]
  },
  {
   "cell_type": "code",
   "execution_count": 6,
   "id": "a10a700b-939d-4738-8226-a53306e9b6d6",
   "metadata": {},
   "outputs": [],
   "source": [
    "numerical_features = ['carat', 'depth', 'table', 'dim_index']\n",
    "from sklearn.preprocessing import StandardScaler\n",
    "scaler = StandardScaler()\n",
    "scaler.fit(X_train[numerical_features])\n",
    "X_train.loc[:, numerical_features] = scaler.transform(X_train[numerical_features])"
   ]
  },
  {
   "cell_type": "markdown",
   "id": "237337c6-94fd-4e7c-a689-346a683f898f",
   "metadata": {},
   "source": [
    "### Construindo o MLP para prever os preços dos Diamantes"
   ]
  },
  {
   "cell_type": "code",
   "execution_count": 7,
   "id": "9cc36dcc-8edb-47a9-9886-38f42b19ab12",
   "metadata": {},
   "outputs": [],
   "source": [
    "from keras.models import Sequential\n",
    "nn_reg = Sequential()"
   ]
  },
  {
   "cell_type": "code",
   "execution_count": 8,
   "id": "9cf9266f-4353-4b39-98dc-43e4730610d3",
   "metadata": {},
   "outputs": [],
   "source": [
    "from keras.layers import Dense\n"
   ]
  },
  {
   "cell_type": "code",
   "execution_count": 9,
   "id": "ca2f792f-6c76-46db-af2f-134bc942368e",
   "metadata": {},
   "outputs": [
    {
     "name": "stderr",
     "output_type": "stream",
     "text": [
      "C:\\Users\\Jessica\\AppData\\Local\\Packages\\PythonSoftwareFoundation.Python.3.12_qbz5n2kfra8p0\\LocalCache\\local-packages\\Python312\\site-packages\\keras\\src\\layers\\core\\dense.py:87: UserWarning: Do not pass an `input_shape`/`input_dim` argument to a layer. When using Sequential models, prefer using an `Input(shape)` object as the first layer in the model instead.\n",
      "  super().__init__(activity_regularizer=activity_regularizer, **kwargs)\n"
     ]
    }
   ],
   "source": [
    "n_input = X_train.shape[1]\n",
    "n_hidden1 = 32\n",
    "nn_reg.add(Dense(units=n_hidden1, activation='relu', input_shape=(n_input,)))"
   ]
  },
  {
   "cell_type": "markdown",
   "id": "836ab7fd-90b4-4712-9bc2-8e4c18ccb640",
   "metadata": {},
   "source": [
    "- **units:** Este é o número de neurônios na camada; estamos usando 32\n",
    "- **activation:** Esta é a função de ativação que será utilizada em cada um dos neurônios; estamos usando ReLU\n",
    "- **input_shape:** Este é o número de entradas que a rede receberá, que é igual ao número de recursos preditivos em nosso conjunto de dados; não precisamos especificar quantas amostras a rede receberá, pois ela pode lidar com qualquer número delas"
   ]
  },
  {
   "cell_type": "code",
   "execution_count": 10,
   "id": "e5bb20b5-d6c7-47d6-b265-e6b40e6c88ee",
   "metadata": {},
   "outputs": [],
   "source": [
    "n_hidden2 = 16\n",
    "n_hidden3 = 8\n",
    "# add second hidden layer\n",
    "nn_reg.add(Dense(units=n_hidden2, activation='relu'))\n",
    "# add third hidden layer\n",
    "nn_reg.add(Dense(units=n_hidden3, activation='relu'))"
   ]
  },
  {
   "cell_type": "code",
   "execution_count": 11,
   "id": "84ba8af7-4dee-4bed-b6d5-a1f4b107fb20",
   "metadata": {},
   "outputs": [],
   "source": [
    "# output layer\n",
    "nn_reg.add(Dense(units=1, activation=None))"
   ]
  },
  {
   "cell_type": "markdown",
   "id": "e1782617-2dae-4180-94d9-c8e5b6796aff",
   "metadata": {},
   "source": [
    "### Training the neural network"
   ]
  },
  {
   "cell_type": "code",
   "execution_count": 12,
   "id": "313d7c65-02b6-4c5f-8c08-b7c398e2db30",
   "metadata": {},
   "outputs": [],
   "source": [
    "nn_reg.compile(loss='mean_squared_error', optimizer='adam')"
   ]
  },
  {
   "cell_type": "markdown",
   "id": "b248f6d1-a474-45d0-97dd-78a31b1448b8",
   "metadata": {},
   "source": [
    "- Compilando o Modelo e informando ao Keras a função de perda e o otimizador escolhido que no caso é o 'adam'"
   ]
  },
  {
   "cell_type": "code",
   "execution_count": 13,
   "id": "d400251f-b970-418b-9c0d-a45945d574b1",
   "metadata": {},
   "outputs": [
    {
     "data": {
      "text/html": [
       "<pre style=\"white-space:pre;overflow-x:auto;line-height:normal;font-family:Menlo,'DejaVu Sans Mono',consolas,'Courier New',monospace\"><span style=\"font-weight: bold\">Model: \"sequential\"</span>\n",
       "</pre>\n"
      ],
      "text/plain": [
       "\u001b[1mModel: \"sequential\"\u001b[0m\n"
      ]
     },
     "metadata": {},
     "output_type": "display_data"
    },
    {
     "data": {
      "text/html": [
       "<pre style=\"white-space:pre;overflow-x:auto;line-height:normal;font-family:Menlo,'DejaVu Sans Mono',consolas,'Courier New',monospace\">┏━━━━━━━━━━━━━━━━━━━━━━━━━━━━━━━━━━━━━━┳━━━━━━━━━━━━━━━━━━━━━━━━━━━━━┳━━━━━━━━━━━━━━━━━┓\n",
       "┃<span style=\"font-weight: bold\"> Layer (type)                         </span>┃<span style=\"font-weight: bold\"> Output Shape                </span>┃<span style=\"font-weight: bold\">         Param # </span>┃\n",
       "┡━━━━━━━━━━━━━━━━━━━━━━━━━━━━━━━━━━━━━━╇━━━━━━━━━━━━━━━━━━━━━━━━━━━━━╇━━━━━━━━━━━━━━━━━┩\n",
       "│ dense (<span style=\"color: #0087ff; text-decoration-color: #0087ff\">Dense</span>)                        │ (<span style=\"color: #00d7ff; text-decoration-color: #00d7ff\">None</span>, <span style=\"color: #00af00; text-decoration-color: #00af00\">32</span>)                  │             <span style=\"color: #00af00; text-decoration-color: #00af00\">704</span> │\n",
       "├──────────────────────────────────────┼─────────────────────────────┼─────────────────┤\n",
       "│ dense_1 (<span style=\"color: #0087ff; text-decoration-color: #0087ff\">Dense</span>)                      │ (<span style=\"color: #00d7ff; text-decoration-color: #00d7ff\">None</span>, <span style=\"color: #00af00; text-decoration-color: #00af00\">16</span>)                  │             <span style=\"color: #00af00; text-decoration-color: #00af00\">528</span> │\n",
       "├──────────────────────────────────────┼─────────────────────────────┼─────────────────┤\n",
       "│ dense_2 (<span style=\"color: #0087ff; text-decoration-color: #0087ff\">Dense</span>)                      │ (<span style=\"color: #00d7ff; text-decoration-color: #00d7ff\">None</span>, <span style=\"color: #00af00; text-decoration-color: #00af00\">8</span>)                   │             <span style=\"color: #00af00; text-decoration-color: #00af00\">136</span> │\n",
       "├──────────────────────────────────────┼─────────────────────────────┼─────────────────┤\n",
       "│ dense_3 (<span style=\"color: #0087ff; text-decoration-color: #0087ff\">Dense</span>)                      │ (<span style=\"color: #00d7ff; text-decoration-color: #00d7ff\">None</span>, <span style=\"color: #00af00; text-decoration-color: #00af00\">1</span>)                   │               <span style=\"color: #00af00; text-decoration-color: #00af00\">9</span> │\n",
       "└──────────────────────────────────────┴─────────────────────────────┴─────────────────┘\n",
       "</pre>\n"
      ],
      "text/plain": [
       "┏━━━━━━━━━━━━━━━━━━━━━━━━━━━━━━━━━━━━━━┳━━━━━━━━━━━━━━━━━━━━━━━━━━━━━┳━━━━━━━━━━━━━━━━━┓\n",
       "┃\u001b[1m \u001b[0m\u001b[1mLayer (type)                        \u001b[0m\u001b[1m \u001b[0m┃\u001b[1m \u001b[0m\u001b[1mOutput Shape               \u001b[0m\u001b[1m \u001b[0m┃\u001b[1m \u001b[0m\u001b[1m        Param #\u001b[0m\u001b[1m \u001b[0m┃\n",
       "┡━━━━━━━━━━━━━━━━━━━━━━━━━━━━━━━━━━━━━━╇━━━━━━━━━━━━━━━━━━━━━━━━━━━━━╇━━━━━━━━━━━━━━━━━┩\n",
       "│ dense (\u001b[38;5;33mDense\u001b[0m)                        │ (\u001b[38;5;45mNone\u001b[0m, \u001b[38;5;34m32\u001b[0m)                  │             \u001b[38;5;34m704\u001b[0m │\n",
       "├──────────────────────────────────────┼─────────────────────────────┼─────────────────┤\n",
       "│ dense_1 (\u001b[38;5;33mDense\u001b[0m)                      │ (\u001b[38;5;45mNone\u001b[0m, \u001b[38;5;34m16\u001b[0m)                  │             \u001b[38;5;34m528\u001b[0m │\n",
       "├──────────────────────────────────────┼─────────────────────────────┼─────────────────┤\n",
       "│ dense_2 (\u001b[38;5;33mDense\u001b[0m)                      │ (\u001b[38;5;45mNone\u001b[0m, \u001b[38;5;34m8\u001b[0m)                   │             \u001b[38;5;34m136\u001b[0m │\n",
       "├──────────────────────────────────────┼─────────────────────────────┼─────────────────┤\n",
       "│ dense_3 (\u001b[38;5;33mDense\u001b[0m)                      │ (\u001b[38;5;45mNone\u001b[0m, \u001b[38;5;34m1\u001b[0m)                   │               \u001b[38;5;34m9\u001b[0m │\n",
       "└──────────────────────────────────────┴─────────────────────────────┴─────────────────┘\n"
      ]
     },
     "metadata": {},
     "output_type": "display_data"
    },
    {
     "data": {
      "text/html": [
       "<pre style=\"white-space:pre;overflow-x:auto;line-height:normal;font-family:Menlo,'DejaVu Sans Mono',consolas,'Courier New',monospace\"><span style=\"font-weight: bold\"> Total params: </span><span style=\"color: #00af00; text-decoration-color: #00af00\">1,377</span> (5.38 KB)\n",
       "</pre>\n"
      ],
      "text/plain": [
       "\u001b[1m Total params: \u001b[0m\u001b[38;5;34m1,377\u001b[0m (5.38 KB)\n"
      ]
     },
     "metadata": {},
     "output_type": "display_data"
    },
    {
     "data": {
      "text/html": [
       "<pre style=\"white-space:pre;overflow-x:auto;line-height:normal;font-family:Menlo,'DejaVu Sans Mono',consolas,'Courier New',monospace\"><span style=\"font-weight: bold\"> Trainable params: </span><span style=\"color: #00af00; text-decoration-color: #00af00\">1,377</span> (5.38 KB)\n",
       "</pre>\n"
      ],
      "text/plain": [
       "\u001b[1m Trainable params: \u001b[0m\u001b[38;5;34m1,377\u001b[0m (5.38 KB)\n"
      ]
     },
     "metadata": {},
     "output_type": "display_data"
    },
    {
     "data": {
      "text/html": [
       "<pre style=\"white-space:pre;overflow-x:auto;line-height:normal;font-family:Menlo,'DejaVu Sans Mono',consolas,'Courier New',monospace\"><span style=\"font-weight: bold\"> Non-trainable params: </span><span style=\"color: #00af00; text-decoration-color: #00af00\">0</span> (0.00 B)\n",
       "</pre>\n"
      ],
      "text/plain": [
       "\u001b[1m Non-trainable params: \u001b[0m\u001b[38;5;34m0\u001b[0m (0.00 B)\n"
      ]
     },
     "metadata": {},
     "output_type": "display_data"
    }
   ],
   "source": [
    "nn_reg.summary()"
   ]
  },
  {
   "cell_type": "markdown",
   "id": "af388b1b-8be5-4920-8e09-8848d12feae9",
   "metadata": {},
   "source": [
    "- Ha cerca de 1,377 pesos e vieses no modelo\n",
    "- Podemos treinar o modelo usando o FIT metodo"
   ]
  },
  {
   "cell_type": "code",
   "execution_count": 14,
   "id": "1a98b9e6-1858-47c3-82ff-4efd225df40c",
   "metadata": {},
   "outputs": [
    {
     "name": "stdout",
     "output_type": "stream",
     "text": [
      "Epoch 1/50\n",
      "\u001b[1m759/759\u001b[0m \u001b[32m━━━━━━━━━━━━━━━━━━━━\u001b[0m\u001b[37m\u001b[0m \u001b[1m1s\u001b[0m 458us/step - loss: 25463518.0000\n",
      "Epoch 2/50\n",
      "\u001b[1m759/759\u001b[0m \u001b[32m━━━━━━━━━━━━━━━━━━━━\u001b[0m\u001b[37m\u001b[0m \u001b[1m0s\u001b[0m 454us/step - loss: 1951164.7500\n",
      "Epoch 3/50\n",
      "\u001b[1m759/759\u001b[0m \u001b[32m━━━━━━━━━━━━━━━━━━━━\u001b[0m\u001b[37m\u001b[0m \u001b[1m0s\u001b[0m 443us/step - loss: 1253986.1250\n",
      "Epoch 4/50\n",
      "\u001b[1m759/759\u001b[0m \u001b[32m━━━━━━━━━━━━━━━━━━━━\u001b[0m\u001b[37m\u001b[0m \u001b[1m0s\u001b[0m 453us/step - loss: 981956.8750\n",
      "Epoch 5/50\n",
      "\u001b[1m759/759\u001b[0m \u001b[32m━━━━━━━━━━━━━━━━━━━━\u001b[0m\u001b[37m\u001b[0m \u001b[1m0s\u001b[0m 441us/step - loss: 867890.3750\n",
      "Epoch 6/50\n",
      "\u001b[1m759/759\u001b[0m \u001b[32m━━━━━━━━━━━━━━━━━━━━\u001b[0m\u001b[37m\u001b[0m \u001b[1m0s\u001b[0m 440us/step - loss: 811145.8750\n",
      "Epoch 7/50\n",
      "\u001b[1m759/759\u001b[0m \u001b[32m━━━━━━━━━━━━━━━━━━━━\u001b[0m\u001b[37m\u001b[0m \u001b[1m0s\u001b[0m 444us/step - loss: 701097.8750\n",
      "Epoch 8/50\n",
      "\u001b[1m759/759\u001b[0m \u001b[32m━━━━━━━━━━━━━━━━━━━━\u001b[0m\u001b[37m\u001b[0m \u001b[1m0s\u001b[0m 448us/step - loss: 665268.8750\n",
      "Epoch 9/50\n",
      "\u001b[1m759/759\u001b[0m \u001b[32m━━━━━━━━━━━━━━━━━━━━\u001b[0m\u001b[37m\u001b[0m \u001b[1m0s\u001b[0m 446us/step - loss: 624615.6250\n",
      "Epoch 10/50\n",
      "\u001b[1m759/759\u001b[0m \u001b[32m━━━━━━━━━━━━━━━━━━━━\u001b[0m\u001b[37m\u001b[0m \u001b[1m0s\u001b[0m 440us/step - loss: 639208.8125\n",
      "Epoch 11/50\n",
      "\u001b[1m759/759\u001b[0m \u001b[32m━━━━━━━━━━━━━━━━━━━━\u001b[0m\u001b[37m\u001b[0m \u001b[1m0s\u001b[0m 443us/step - loss: 644830.6250\n",
      "Epoch 12/50\n",
      "\u001b[1m759/759\u001b[0m \u001b[32m━━━━━━━━━━━━━━━━━━━━\u001b[0m\u001b[37m\u001b[0m \u001b[1m0s\u001b[0m 440us/step - loss: 563605.0625\n",
      "Epoch 13/50\n",
      "\u001b[1m759/759\u001b[0m \u001b[32m━━━━━━━━━━━━━━━━━━━━\u001b[0m\u001b[37m\u001b[0m \u001b[1m0s\u001b[0m 456us/step - loss: 591252.0000\n",
      "Epoch 14/50\n",
      "\u001b[1m759/759\u001b[0m \u001b[32m━━━━━━━━━━━━━━━━━━━━\u001b[0m\u001b[37m\u001b[0m \u001b[1m0s\u001b[0m 444us/step - loss: 549477.2500\n",
      "Epoch 15/50\n",
      "\u001b[1m759/759\u001b[0m \u001b[32m━━━━━━━━━━━━━━━━━━━━\u001b[0m\u001b[37m\u001b[0m \u001b[1m0s\u001b[0m 448us/step - loss: 517289.5938\n",
      "Epoch 16/50\n",
      "\u001b[1m759/759\u001b[0m \u001b[32m━━━━━━━━━━━━━━━━━━━━\u001b[0m\u001b[37m\u001b[0m \u001b[1m0s\u001b[0m 439us/step - loss: 528743.5000\n",
      "Epoch 17/50\n",
      "\u001b[1m759/759\u001b[0m \u001b[32m━━━━━━━━━━━━━━━━━━━━\u001b[0m\u001b[37m\u001b[0m \u001b[1m0s\u001b[0m 449us/step - loss: 487283.7812\n",
      "Epoch 18/50\n",
      "\u001b[1m759/759\u001b[0m \u001b[32m━━━━━━━━━━━━━━━━━━━━\u001b[0m\u001b[37m\u001b[0m \u001b[1m0s\u001b[0m 443us/step - loss: 477945.5625\n",
      "Epoch 19/50\n",
      "\u001b[1m759/759\u001b[0m \u001b[32m━━━━━━━━━━━━━━━━━━━━\u001b[0m\u001b[37m\u001b[0m \u001b[1m0s\u001b[0m 442us/step - loss: 470812.1875\n",
      "Epoch 20/50\n",
      "\u001b[1m759/759\u001b[0m \u001b[32m━━━━━━━━━━━━━━━━━━━━\u001b[0m\u001b[37m\u001b[0m \u001b[1m0s\u001b[0m 438us/step - loss: 476138.0625\n",
      "Epoch 21/50\n",
      "\u001b[1m759/759\u001b[0m \u001b[32m━━━━━━━━━━━━━━━━━━━━\u001b[0m\u001b[37m\u001b[0m \u001b[1m0s\u001b[0m 454us/step - loss: 434200.1562\n",
      "Epoch 22/50\n",
      "\u001b[1m759/759\u001b[0m \u001b[32m━━━━━━━━━━━━━━━━━━━━\u001b[0m\u001b[37m\u001b[0m \u001b[1m0s\u001b[0m 438us/step - loss: 437357.2812\n",
      "Epoch 23/50\n",
      "\u001b[1m759/759\u001b[0m \u001b[32m━━━━━━━━━━━━━━━━━━━━\u001b[0m\u001b[37m\u001b[0m \u001b[1m0s\u001b[0m 437us/step - loss: 424636.8125\n",
      "Epoch 24/50\n",
      "\u001b[1m759/759\u001b[0m \u001b[32m━━━━━━━━━━━━━━━━━━━━\u001b[0m\u001b[37m\u001b[0m \u001b[1m0s\u001b[0m 433us/step - loss: 409061.6250\n",
      "Epoch 25/50\n",
      "\u001b[1m759/759\u001b[0m \u001b[32m━━━━━━━━━━━━━━━━━━━━\u001b[0m\u001b[37m\u001b[0m \u001b[1m0s\u001b[0m 461us/step - loss: 387939.1562\n",
      "Epoch 26/50\n",
      "\u001b[1m759/759\u001b[0m \u001b[32m━━━━━━━━━━━━━━━━━━━━\u001b[0m\u001b[37m\u001b[0m \u001b[1m0s\u001b[0m 443us/step - loss: 382785.9688\n",
      "Epoch 27/50\n",
      "\u001b[1m759/759\u001b[0m \u001b[32m━━━━━━━━━━━━━━━━━━━━\u001b[0m\u001b[37m\u001b[0m \u001b[1m0s\u001b[0m 450us/step - loss: 377253.7812\n",
      "Epoch 28/50\n",
      "\u001b[1m759/759\u001b[0m \u001b[32m━━━━━━━━━━━━━━━━━━━━\u001b[0m\u001b[37m\u001b[0m \u001b[1m0s\u001b[0m 447us/step - loss: 364815.7500\n",
      "Epoch 29/50\n",
      "\u001b[1m759/759\u001b[0m \u001b[32m━━━━━━━━━━━━━━━━━━━━\u001b[0m\u001b[37m\u001b[0m \u001b[1m0s\u001b[0m 443us/step - loss: 370515.6250\n",
      "Epoch 30/50\n",
      "\u001b[1m759/759\u001b[0m \u001b[32m━━━━━━━━━━━━━━━━━━━━\u001b[0m\u001b[37m\u001b[0m \u001b[1m0s\u001b[0m 440us/step - loss: 360132.2188\n",
      "Epoch 31/50\n",
      "\u001b[1m759/759\u001b[0m \u001b[32m━━━━━━━━━━━━━━━━━━━━\u001b[0m\u001b[37m\u001b[0m \u001b[1m0s\u001b[0m 458us/step - loss: 359414.4688\n",
      "Epoch 32/50\n",
      "\u001b[1m759/759\u001b[0m \u001b[32m━━━━━━━━━━━━━━━━━━━━\u001b[0m\u001b[37m\u001b[0m \u001b[1m0s\u001b[0m 465us/step - loss: 359718.4688\n",
      "Epoch 33/50\n",
      "\u001b[1m759/759\u001b[0m \u001b[32m━━━━━━━━━━━━━━━━━━━━\u001b[0m\u001b[37m\u001b[0m \u001b[1m0s\u001b[0m 453us/step - loss: 332096.2500\n",
      "Epoch 34/50\n",
      "\u001b[1m759/759\u001b[0m \u001b[32m━━━━━━━━━━━━━━━━━━━━\u001b[0m\u001b[37m\u001b[0m \u001b[1m0s\u001b[0m 443us/step - loss: 335068.2812\n",
      "Epoch 35/50\n",
      "\u001b[1m759/759\u001b[0m \u001b[32m━━━━━━━━━━━━━━━━━━━━\u001b[0m\u001b[37m\u001b[0m \u001b[1m0s\u001b[0m 456us/step - loss: 345626.0312\n",
      "Epoch 36/50\n",
      "\u001b[1m759/759\u001b[0m \u001b[32m━━━━━━━━━━━━━━━━━━━━\u001b[0m\u001b[37m\u001b[0m \u001b[1m0s\u001b[0m 456us/step - loss: 337543.9062\n",
      "Epoch 37/50\n",
      "\u001b[1m759/759\u001b[0m \u001b[32m━━━━━━━━━━━━━━━━━━━━\u001b[0m\u001b[37m\u001b[0m \u001b[1m0s\u001b[0m 455us/step - loss: 338643.9062\n",
      "Epoch 38/50\n",
      "\u001b[1m759/759\u001b[0m \u001b[32m━━━━━━━━━━━━━━━━━━━━\u001b[0m\u001b[37m\u001b[0m \u001b[1m0s\u001b[0m 455us/step - loss: 335683.4062\n",
      "Epoch 39/50\n",
      "\u001b[1m759/759\u001b[0m \u001b[32m━━━━━━━━━━━━━━━━━━━━\u001b[0m\u001b[37m\u001b[0m \u001b[1m0s\u001b[0m 448us/step - loss: 337008.5938\n",
      "Epoch 40/50\n",
      "\u001b[1m759/759\u001b[0m \u001b[32m━━━━━━━━━━━━━━━━━━━━\u001b[0m\u001b[37m\u001b[0m \u001b[1m0s\u001b[0m 450us/step - loss: 335428.3750\n",
      "Epoch 41/50\n",
      "\u001b[1m759/759\u001b[0m \u001b[32m━━━━━━━━━━━━━━━━━━━━\u001b[0m\u001b[37m\u001b[0m \u001b[1m0s\u001b[0m 442us/step - loss: 318258.3125\n",
      "Epoch 42/50\n",
      "\u001b[1m759/759\u001b[0m \u001b[32m━━━━━━━━━━━━━━━━━━━━\u001b[0m\u001b[37m\u001b[0m \u001b[1m0s\u001b[0m 443us/step - loss: 332618.2812\n",
      "Epoch 43/50\n",
      "\u001b[1m759/759\u001b[0m \u001b[32m━━━━━━━━━━━━━━━━━━━━\u001b[0m\u001b[37m\u001b[0m \u001b[1m0s\u001b[0m 458us/step - loss: 319168.9375\n",
      "Epoch 44/50\n",
      "\u001b[1m759/759\u001b[0m \u001b[32m━━━━━━━━━━━━━━━━━━━━\u001b[0m\u001b[37m\u001b[0m \u001b[1m0s\u001b[0m 447us/step - loss: 319621.3438\n",
      "Epoch 45/50\n",
      "\u001b[1m759/759\u001b[0m \u001b[32m━━━━━━━━━━━━━━━━━━━━\u001b[0m\u001b[37m\u001b[0m \u001b[1m0s\u001b[0m 447us/step - loss: 324667.0000\n",
      "Epoch 46/50\n",
      "\u001b[1m759/759\u001b[0m \u001b[32m━━━━━━━━━━━━━━━━━━━━\u001b[0m\u001b[37m\u001b[0m \u001b[1m0s\u001b[0m 446us/step - loss: 323489.9062\n",
      "Epoch 47/50\n",
      "\u001b[1m759/759\u001b[0m \u001b[32m━━━━━━━━━━━━━━━━━━━━\u001b[0m\u001b[37m\u001b[0m \u001b[1m0s\u001b[0m 448us/step - loss: 316516.2188\n",
      "Epoch 48/50\n",
      "\u001b[1m759/759\u001b[0m \u001b[32m━━━━━━━━━━━━━━━━━━━━\u001b[0m\u001b[37m\u001b[0m \u001b[1m0s\u001b[0m 449us/step - loss: 319854.2812\n",
      "Epoch 49/50\n",
      "\u001b[1m759/759\u001b[0m \u001b[32m━━━━━━━━━━━━━━━━━━━━\u001b[0m\u001b[37m\u001b[0m \u001b[1m0s\u001b[0m 454us/step - loss: 327641.2500\n",
      "Epoch 50/50\n",
      "\u001b[1m759/759\u001b[0m \u001b[32m━━━━━━━━━━━━━━━━━━━━\u001b[0m\u001b[37m\u001b[0m \u001b[1m0s\u001b[0m 451us/step - loss: 316971.8438\n"
     ]
    },
    {
     "data": {
      "text/plain": [
       "<keras.src.callbacks.history.History at 0x23e88af5940>"
      ]
     },
     "execution_count": 14,
     "metadata": {},
     "output_type": "execute_result"
    }
   ],
   "source": [
    "batch_size = 64\n",
    "n_epochs = 50\n",
    "nn_reg.fit(X_train, y_train, epochs=n_epochs, batch_size=batch_size)"
   ]
  },
  {
   "cell_type": "markdown",
   "id": "cc7e135a-b8fc-4b2a-a08b-c54f5cf40e60",
   "metadata": {},
   "source": [
    "## Transformando e Dimensionando o conjunto de dados de teste"
   ]
  },
  {
   "cell_type": "code",
   "execution_count": 15,
   "id": "9014db3e-e162-4814-b570-baf236f9ea76",
   "metadata": {},
   "outputs": [],
   "source": [
    "## PCA para redução de dimensão: \n",
    "X_test['dim_index'] = pca.transform(X_test[['x','y','z']]).flatten() \n",
    "X_test.drop(['x','y','z'], axis=1, inplace=True) \n",
    "## Dimensione nossos recursos numéricos para que tenham média zero e uma variação de um \n",
    "X_test.loc[:, numerical_features] = scaler.transform(X_test[numerical_features])"
   ]
  },
  {
   "cell_type": "markdown",
   "id": "98379365-d6e3-4175-b3f8-9a50c75daadd",
   "metadata": {},
   "source": [
    "### Fazendo previsões usando o **predict** método e calculando o MSE:"
   ]
  },
  {
   "cell_type": "code",
   "execution_count": 16,
   "id": "844f2bf2-2356-4001-af54-d86f8aafa732",
   "metadata": {},
   "outputs": [
    {
     "name": "stdout",
     "output_type": "stream",
     "text": [
      "\u001b[1m1517/1517\u001b[0m \u001b[32m━━━━━━━━━━━━━━━━━━━━\u001b[0m\u001b[37m\u001b[0m \u001b[1m1s\u001b[0m 408us/step\n",
      "\u001b[1m169/169\u001b[0m \u001b[32m━━━━━━━━━━━━━━━━━━━━\u001b[0m\u001b[37m\u001b[0m \u001b[1m0s\u001b[0m 397us/step\n",
      "Train MSE: 0.315 \n",
      "Test MSE: 0.326\n"
     ]
    }
   ],
   "source": [
    "from sklearn.metrics import mean_squared_error\n",
    "y_pred_train = nn_reg.predict(X_train)\n",
    "y_pred_test = nn_reg.predict(X_test)\n",
    "train_mse = mean_squared_error(y_true=y_train, y_pred=y_pred_train)\n",
    "test_mse = mean_squared_error(y_true=y_test, y_pred=y_pred_test)\n",
    "print(\"Train MSE: {:0.3f} \\nTest MSE: {:0.3f}\".format(train_mse/1e6, test_mse/1e6))"
   ]
  },
  {
   "cell_type": "markdown",
   "id": "34ec939a-f7e8-44ab-b3d7-bc409b7d4f0b",
   "metadata": {},
   "source": [
    "## Regularizando "
   ]
  },
  {
   "cell_type": "code",
   "execution_count": 17,
   "id": "601050fb-b79f-4b61-90d9-22e1ab06b0c8",
   "metadata": {},
   "outputs": [
    {
     "name": "stderr",
     "output_type": "stream",
     "text": [
      "C:\\Users\\Jessica\\AppData\\Local\\Packages\\PythonSoftwareFoundation.Python.3.12_qbz5n2kfra8p0\\LocalCache\\local-packages\\Python312\\site-packages\\keras\\src\\layers\\core\\dense.py:87: UserWarning: Do not pass an `input_shape`/`input_dim` argument to a layer. When using Sequential models, prefer using an `Input(shape)` object as the first layer in the model instead.\n",
      "  super().__init__(activity_regularizer=activity_regularizer, **kwargs)\n"
     ]
    }
   ],
   "source": [
    "nn_reg2 = Sequential()\n",
    "n_hidden = 64\n",
    "# hidden layers\n",
    "nn_reg2.add(Dense(units=n_hidden, activation='relu', input_shape=(n_input,)))\n",
    "nn_reg2.add(Dense(units=n_hidden, activation='relu'))\n",
    "nn_reg2.add(Dense(units=n_hidden, activation='relu'))\n",
    "nn_reg2.add(Dense(units=n_hidden, activation='relu'))\n",
    "nn_reg2.add(Dense(units=n_hidden, activation='relu'))\n",
    "nn_reg2.add(Dense(units=n_hidden, activation='relu'))\n",
    "# output layer\n",
    "nn_reg2.add(Dense(units=1, activation=None))"
   ]
  },
  {
   "cell_type": "code",
   "execution_count": 18,
   "id": "f6a54d9e-3919-4124-b581-122edf7af163",
   "metadata": {},
   "outputs": [],
   "source": [
    "nn_reg2.compile(loss='mean_squared_error', optimizer='adam', metrics=['mse', 'mae'])"
   ]
  },
  {
   "cell_type": "code",
   "execution_count": 19,
   "id": "1796bd51-ad6f-4a40-afdf-85053e5a86cb",
   "metadata": {},
   "outputs": [
    {
     "data": {
      "text/html": [
       "<pre style=\"white-space:pre;overflow-x:auto;line-height:normal;font-family:Menlo,'DejaVu Sans Mono',consolas,'Courier New',monospace\"><span style=\"font-weight: bold\">Model: \"sequential_1\"</span>\n",
       "</pre>\n"
      ],
      "text/plain": [
       "\u001b[1mModel: \"sequential_1\"\u001b[0m\n"
      ]
     },
     "metadata": {},
     "output_type": "display_data"
    },
    {
     "data": {
      "text/html": [
       "<pre style=\"white-space:pre;overflow-x:auto;line-height:normal;font-family:Menlo,'DejaVu Sans Mono',consolas,'Courier New',monospace\">┏━━━━━━━━━━━━━━━━━━━━━━━━━━━━━━━━━━━━━━┳━━━━━━━━━━━━━━━━━━━━━━━━━━━━━┳━━━━━━━━━━━━━━━━━┓\n",
       "┃<span style=\"font-weight: bold\"> Layer (type)                         </span>┃<span style=\"font-weight: bold\"> Output Shape                </span>┃<span style=\"font-weight: bold\">         Param # </span>┃\n",
       "┡━━━━━━━━━━━━━━━━━━━━━━━━━━━━━━━━━━━━━━╇━━━━━━━━━━━━━━━━━━━━━━━━━━━━━╇━━━━━━━━━━━━━━━━━┩\n",
       "│ dense_4 (<span style=\"color: #0087ff; text-decoration-color: #0087ff\">Dense</span>)                      │ (<span style=\"color: #00d7ff; text-decoration-color: #00d7ff\">None</span>, <span style=\"color: #00af00; text-decoration-color: #00af00\">64</span>)                  │           <span style=\"color: #00af00; text-decoration-color: #00af00\">1,408</span> │\n",
       "├──────────────────────────────────────┼─────────────────────────────┼─────────────────┤\n",
       "│ dense_5 (<span style=\"color: #0087ff; text-decoration-color: #0087ff\">Dense</span>)                      │ (<span style=\"color: #00d7ff; text-decoration-color: #00d7ff\">None</span>, <span style=\"color: #00af00; text-decoration-color: #00af00\">64</span>)                  │           <span style=\"color: #00af00; text-decoration-color: #00af00\">4,160</span> │\n",
       "├──────────────────────────────────────┼─────────────────────────────┼─────────────────┤\n",
       "│ dense_6 (<span style=\"color: #0087ff; text-decoration-color: #0087ff\">Dense</span>)                      │ (<span style=\"color: #00d7ff; text-decoration-color: #00d7ff\">None</span>, <span style=\"color: #00af00; text-decoration-color: #00af00\">64</span>)                  │           <span style=\"color: #00af00; text-decoration-color: #00af00\">4,160</span> │\n",
       "├──────────────────────────────────────┼─────────────────────────────┼─────────────────┤\n",
       "│ dense_7 (<span style=\"color: #0087ff; text-decoration-color: #0087ff\">Dense</span>)                      │ (<span style=\"color: #00d7ff; text-decoration-color: #00d7ff\">None</span>, <span style=\"color: #00af00; text-decoration-color: #00af00\">64</span>)                  │           <span style=\"color: #00af00; text-decoration-color: #00af00\">4,160</span> │\n",
       "├──────────────────────────────────────┼─────────────────────────────┼─────────────────┤\n",
       "│ dense_8 (<span style=\"color: #0087ff; text-decoration-color: #0087ff\">Dense</span>)                      │ (<span style=\"color: #00d7ff; text-decoration-color: #00d7ff\">None</span>, <span style=\"color: #00af00; text-decoration-color: #00af00\">64</span>)                  │           <span style=\"color: #00af00; text-decoration-color: #00af00\">4,160</span> │\n",
       "├──────────────────────────────────────┼─────────────────────────────┼─────────────────┤\n",
       "│ dense_9 (<span style=\"color: #0087ff; text-decoration-color: #0087ff\">Dense</span>)                      │ (<span style=\"color: #00d7ff; text-decoration-color: #00d7ff\">None</span>, <span style=\"color: #00af00; text-decoration-color: #00af00\">64</span>)                  │           <span style=\"color: #00af00; text-decoration-color: #00af00\">4,160</span> │\n",
       "├──────────────────────────────────────┼─────────────────────────────┼─────────────────┤\n",
       "│ dense_10 (<span style=\"color: #0087ff; text-decoration-color: #0087ff\">Dense</span>)                     │ (<span style=\"color: #00d7ff; text-decoration-color: #00d7ff\">None</span>, <span style=\"color: #00af00; text-decoration-color: #00af00\">1</span>)                   │              <span style=\"color: #00af00; text-decoration-color: #00af00\">65</span> │\n",
       "└──────────────────────────────────────┴─────────────────────────────┴─────────────────┘\n",
       "</pre>\n"
      ],
      "text/plain": [
       "┏━━━━━━━━━━━━━━━━━━━━━━━━━━━━━━━━━━━━━━┳━━━━━━━━━━━━━━━━━━━━━━━━━━━━━┳━━━━━━━━━━━━━━━━━┓\n",
       "┃\u001b[1m \u001b[0m\u001b[1mLayer (type)                        \u001b[0m\u001b[1m \u001b[0m┃\u001b[1m \u001b[0m\u001b[1mOutput Shape               \u001b[0m\u001b[1m \u001b[0m┃\u001b[1m \u001b[0m\u001b[1m        Param #\u001b[0m\u001b[1m \u001b[0m┃\n",
       "┡━━━━━━━━━━━━━━━━━━━━━━━━━━━━━━━━━━━━━━╇━━━━━━━━━━━━━━━━━━━━━━━━━━━━━╇━━━━━━━━━━━━━━━━━┩\n",
       "│ dense_4 (\u001b[38;5;33mDense\u001b[0m)                      │ (\u001b[38;5;45mNone\u001b[0m, \u001b[38;5;34m64\u001b[0m)                  │           \u001b[38;5;34m1,408\u001b[0m │\n",
       "├──────────────────────────────────────┼─────────────────────────────┼─────────────────┤\n",
       "│ dense_5 (\u001b[38;5;33mDense\u001b[0m)                      │ (\u001b[38;5;45mNone\u001b[0m, \u001b[38;5;34m64\u001b[0m)                  │           \u001b[38;5;34m4,160\u001b[0m │\n",
       "├──────────────────────────────────────┼─────────────────────────────┼─────────────────┤\n",
       "│ dense_6 (\u001b[38;5;33mDense\u001b[0m)                      │ (\u001b[38;5;45mNone\u001b[0m, \u001b[38;5;34m64\u001b[0m)                  │           \u001b[38;5;34m4,160\u001b[0m │\n",
       "├──────────────────────────────────────┼─────────────────────────────┼─────────────────┤\n",
       "│ dense_7 (\u001b[38;5;33mDense\u001b[0m)                      │ (\u001b[38;5;45mNone\u001b[0m, \u001b[38;5;34m64\u001b[0m)                  │           \u001b[38;5;34m4,160\u001b[0m │\n",
       "├──────────────────────────────────────┼─────────────────────────────┼─────────────────┤\n",
       "│ dense_8 (\u001b[38;5;33mDense\u001b[0m)                      │ (\u001b[38;5;45mNone\u001b[0m, \u001b[38;5;34m64\u001b[0m)                  │           \u001b[38;5;34m4,160\u001b[0m │\n",
       "├──────────────────────────────────────┼─────────────────────────────┼─────────────────┤\n",
       "│ dense_9 (\u001b[38;5;33mDense\u001b[0m)                      │ (\u001b[38;5;45mNone\u001b[0m, \u001b[38;5;34m64\u001b[0m)                  │           \u001b[38;5;34m4,160\u001b[0m │\n",
       "├──────────────────────────────────────┼─────────────────────────────┼─────────────────┤\n",
       "│ dense_10 (\u001b[38;5;33mDense\u001b[0m)                     │ (\u001b[38;5;45mNone\u001b[0m, \u001b[38;5;34m1\u001b[0m)                   │              \u001b[38;5;34m65\u001b[0m │\n",
       "└──────────────────────────────────────┴─────────────────────────────┴─────────────────┘\n"
      ]
     },
     "metadata": {},
     "output_type": "display_data"
    },
    {
     "data": {
      "text/html": [
       "<pre style=\"white-space:pre;overflow-x:auto;line-height:normal;font-family:Menlo,'DejaVu Sans Mono',consolas,'Courier New',monospace\"><span style=\"font-weight: bold\"> Total params: </span><span style=\"color: #00af00; text-decoration-color: #00af00\">22,273</span> (87.00 KB)\n",
       "</pre>\n"
      ],
      "text/plain": [
       "\u001b[1m Total params: \u001b[0m\u001b[38;5;34m22,273\u001b[0m (87.00 KB)\n"
      ]
     },
     "metadata": {},
     "output_type": "display_data"
    },
    {
     "data": {
      "text/html": [
       "<pre style=\"white-space:pre;overflow-x:auto;line-height:normal;font-family:Menlo,'DejaVu Sans Mono',consolas,'Courier New',monospace\"><span style=\"font-weight: bold\"> Trainable params: </span><span style=\"color: #00af00; text-decoration-color: #00af00\">22,273</span> (87.00 KB)\n",
       "</pre>\n"
      ],
      "text/plain": [
       "\u001b[1m Trainable params: \u001b[0m\u001b[38;5;34m22,273\u001b[0m (87.00 KB)\n"
      ]
     },
     "metadata": {},
     "output_type": "display_data"
    },
    {
     "data": {
      "text/html": [
       "<pre style=\"white-space:pre;overflow-x:auto;line-height:normal;font-family:Menlo,'DejaVu Sans Mono',consolas,'Courier New',monospace\"><span style=\"font-weight: bold\"> Non-trainable params: </span><span style=\"color: #00af00; text-decoration-color: #00af00\">0</span> (0.00 B)\n",
       "</pre>\n"
      ],
      "text/plain": [
       "\u001b[1m Non-trainable params: \u001b[0m\u001b[38;5;34m0\u001b[0m (0.00 B)\n"
      ]
     },
     "metadata": {},
     "output_type": "display_data"
    }
   ],
   "source": [
    "nn_reg2.summary()"
   ]
  },
  {
   "cell_type": "code",
   "execution_count": 20,
   "id": "a4e54061-39f7-4e30-b290-9724e792c64e",
   "metadata": {},
   "outputs": [
    {
     "name": "stdout",
     "output_type": "stream",
     "text": [
      "Epoch 1/300\n",
      "\u001b[1m683/683\u001b[0m \u001b[32m━━━━━━━━━━━━━━━━━━━━\u001b[0m\u001b[37m\u001b[0m \u001b[1m2s\u001b[0m 941us/step - loss: 11223812.0000 - mae: 1852.7573 - mse: 11223812.0000 - val_loss: 968167.9375 - val_mae: 506.9034 - val_mse: 968167.9375\n",
      "Epoch 2/300\n",
      "\u001b[1m683/683\u001b[0m \u001b[32m━━━━━━━━━━━━━━━━━━━━\u001b[0m\u001b[37m\u001b[0m \u001b[1m1s\u001b[0m 752us/step - loss: 813038.0000 - mae: 459.5571 - mse: 813038.0000 - val_loss: 651288.3750 - val_mae: 401.2252 - val_mse: 651288.3750\n",
      "Epoch 3/300\n",
      "\u001b[1m683/683\u001b[0m \u001b[32m━━━━━━━━━━━━━━━━━━━━\u001b[0m\u001b[37m\u001b[0m \u001b[1m1s\u001b[0m 751us/step - loss: 597961.3125 - mae: 406.1181 - mse: 597961.3125 - val_loss: 562879.9375 - val_mae: 390.4895 - val_mse: 562879.9375\n",
      "Epoch 4/300\n",
      "\u001b[1m683/683\u001b[0m \u001b[32m━━━━━━━━━━━━━━━━━━━━\u001b[0m\u001b[37m\u001b[0m \u001b[1m1s\u001b[0m 732us/step - loss: 476444.0625 - mae: 370.3472 - mse: 476444.0625 - val_loss: 480787.0000 - val_mae: 370.2100 - val_mse: 480787.0000\n",
      "Epoch 5/300\n",
      "\u001b[1m683/683\u001b[0m \u001b[32m━━━━━━━━━━━━━━━━━━━━\u001b[0m\u001b[37m\u001b[0m \u001b[1m1s\u001b[0m 750us/step - loss: 433182.3438 - mae: 362.7808 - mse: 433182.3438 - val_loss: 423164.5938 - val_mae: 356.0971 - val_mse: 423164.5938\n",
      "Epoch 6/300\n",
      "\u001b[1m683/683\u001b[0m \u001b[32m━━━━━━━━━━━━━━━━━━━━\u001b[0m\u001b[37m\u001b[0m \u001b[1m1s\u001b[0m 755us/step - loss: 366841.4062 - mae: 339.1308 - mse: 366841.4062 - val_loss: 412390.9375 - val_mae: 355.6969 - val_mse: 412390.9375\n",
      "Epoch 7/300\n",
      "\u001b[1m683/683\u001b[0m \u001b[32m━━━━━━━━━━━━━━━━━━━━\u001b[0m\u001b[37m\u001b[0m \u001b[1m1s\u001b[0m 762us/step - loss: 368203.1562 - mae: 337.8465 - mse: 368203.1562 - val_loss: 369635.3750 - val_mae: 342.0511 - val_mse: 369635.3750\n",
      "Epoch 8/300\n",
      "\u001b[1m683/683\u001b[0m \u001b[32m━━━━━━━━━━━━━━━━━━━━\u001b[0m\u001b[37m\u001b[0m \u001b[1m1s\u001b[0m 760us/step - loss: 341924.0625 - mae: 327.1918 - mse: 341924.0625 - val_loss: 356284.6875 - val_mae: 318.9639 - val_mse: 356284.6875\n",
      "Epoch 9/300\n",
      "\u001b[1m683/683\u001b[0m \u001b[32m━━━━━━━━━━━━━━━━━━━━\u001b[0m\u001b[37m\u001b[0m \u001b[1m1s\u001b[0m 736us/step - loss: 343426.6562 - mae: 326.9143 - mse: 343426.6562 - val_loss: 395008.7188 - val_mae: 352.1674 - val_mse: 395008.7188\n",
      "Epoch 10/300\n",
      "\u001b[1m683/683\u001b[0m \u001b[32m━━━━━━━━━━━━━━━━━━━━\u001b[0m\u001b[37m\u001b[0m \u001b[1m1s\u001b[0m 773us/step - loss: 329129.5312 - mae: 318.1127 - mse: 329129.5312 - val_loss: 349083.4375 - val_mae: 317.1019 - val_mse: 349083.4375\n",
      "Epoch 11/300\n",
      "\u001b[1m683/683\u001b[0m \u001b[32m━━━━━━━━━━━━━━━━━━━━\u001b[0m\u001b[37m\u001b[0m \u001b[1m1s\u001b[0m 754us/step - loss: 336538.6875 - mae: 319.8724 - mse: 336538.6875 - val_loss: 353136.8750 - val_mae: 316.9525 - val_mse: 353136.8750\n",
      "Epoch 12/300\n",
      "\u001b[1m683/683\u001b[0m \u001b[32m━━━━━━━━━━━━━━━━━━━━\u001b[0m\u001b[37m\u001b[0m \u001b[1m1s\u001b[0m 732us/step - loss: 325171.8125 - mae: 316.0535 - mse: 325171.8125 - val_loss: 332745.7500 - val_mae: 306.4068 - val_mse: 332745.7500\n",
      "Epoch 13/300\n",
      "\u001b[1m683/683\u001b[0m \u001b[32m━━━━━━━━━━━━━━━━━━━━\u001b[0m\u001b[37m\u001b[0m \u001b[1m1s\u001b[0m 794us/step - loss: 309705.4375 - mae: 309.4359 - mse: 309705.4375 - val_loss: 343284.1562 - val_mae: 315.1804 - val_mse: 343284.1562\n",
      "Epoch 14/300\n",
      "\u001b[1m683/683\u001b[0m \u001b[32m━━━━━━━━━━━━━━━━━━━━\u001b[0m\u001b[37m\u001b[0m \u001b[1m1s\u001b[0m 751us/step - loss: 332229.0312 - mae: 315.4345 - mse: 332229.0312 - val_loss: 335876.3438 - val_mae: 313.3624 - val_mse: 335876.3438\n",
      "Epoch 15/300\n",
      "\u001b[1m683/683\u001b[0m \u001b[32m━━━━━━━━━━━━━━━━━━━━\u001b[0m\u001b[37m\u001b[0m \u001b[1m1s\u001b[0m 738us/step - loss: 322201.0000 - mae: 313.0963 - mse: 322201.0000 - val_loss: 337916.4688 - val_mae: 311.5970 - val_mse: 337916.4688\n",
      "Epoch 16/300\n",
      "\u001b[1m683/683\u001b[0m \u001b[32m━━━━━━━━━━━━━━━━━━━━\u001b[0m\u001b[37m\u001b[0m \u001b[1m1s\u001b[0m 738us/step - loss: 311623.5000 - mae: 306.6010 - mse: 311623.5000 - val_loss: 373013.9375 - val_mae: 345.1183 - val_mse: 373013.9375\n",
      "Epoch 17/300\n",
      "\u001b[1m683/683\u001b[0m \u001b[32m━━━━━━━━━━━━━━━━━━━━\u001b[0m\u001b[37m\u001b[0m \u001b[1m1s\u001b[0m 737us/step - loss: 325880.1875 - mae: 312.4958 - mse: 325880.1875 - val_loss: 348900.2188 - val_mae: 310.7870 - val_mse: 348900.2188\n",
      "Epoch 18/300\n",
      "\u001b[1m683/683\u001b[0m \u001b[32m━━━━━━━━━━━━━━━━━━━━\u001b[0m\u001b[37m\u001b[0m \u001b[1m1s\u001b[0m 749us/step - loss: 305100.8438 - mae: 304.9101 - mse: 305100.8438 - val_loss: 354858.8125 - val_mae: 319.1891 - val_mse: 354858.8125\n",
      "Epoch 19/300\n",
      "\u001b[1m683/683\u001b[0m \u001b[32m━━━━━━━━━━━━━━━━━━━━\u001b[0m\u001b[37m\u001b[0m \u001b[1m1s\u001b[0m 739us/step - loss: 305893.5312 - mae: 303.1429 - mse: 305893.5312 - val_loss: 328077.5938 - val_mae: 303.8047 - val_mse: 328077.5938\n",
      "Epoch 20/300\n",
      "\u001b[1m683/683\u001b[0m \u001b[32m━━━━━━━━━━━━━━━━━━━━\u001b[0m\u001b[37m\u001b[0m \u001b[1m1s\u001b[0m 747us/step - loss: 304393.1875 - mae: 302.3913 - mse: 304393.1875 - val_loss: 326612.9062 - val_mae: 300.5736 - val_mse: 326612.9062\n",
      "Epoch 21/300\n",
      "\u001b[1m683/683\u001b[0m \u001b[32m━━━━━━━━━━━━━━━━━━━━\u001b[0m\u001b[37m\u001b[0m \u001b[1m1s\u001b[0m 741us/step - loss: 305401.8750 - mae: 302.7017 - mse: 305401.8750 - val_loss: 341448.4375 - val_mae: 304.8728 - val_mse: 341448.4375\n",
      "Epoch 22/300\n",
      "\u001b[1m683/683\u001b[0m \u001b[32m━━━━━━━━━━━━━━━━━━━━\u001b[0m\u001b[37m\u001b[0m \u001b[1m1s\u001b[0m 761us/step - loss: 312609.0000 - mae: 305.2231 - mse: 312609.0000 - val_loss: 338588.4688 - val_mae: 306.1958 - val_mse: 338588.4688\n",
      "Epoch 23/300\n",
      "\u001b[1m683/683\u001b[0m \u001b[32m━━━━━━━━━━━━━━━━━━━━\u001b[0m\u001b[37m\u001b[0m \u001b[1m1s\u001b[0m 753us/step - loss: 307292.7812 - mae: 301.1670 - mse: 307292.7812 - val_loss: 331534.4062 - val_mae: 307.5804 - val_mse: 331534.4062\n",
      "Epoch 24/300\n",
      "\u001b[1m683/683\u001b[0m \u001b[32m━━━━━━━━━━━━━━━━━━━━\u001b[0m\u001b[37m\u001b[0m \u001b[1m1s\u001b[0m 756us/step - loss: 297185.8750 - mae: 301.2833 - mse: 297185.8750 - val_loss: 324424.3438 - val_mae: 308.9617 - val_mse: 324424.3438\n",
      "Epoch 25/300\n",
      "\u001b[1m683/683\u001b[0m \u001b[32m━━━━━━━━━━━━━━━━━━━━\u001b[0m\u001b[37m\u001b[0m \u001b[1m1s\u001b[0m 767us/step - loss: 305963.7188 - mae: 306.2856 - mse: 305963.7188 - val_loss: 358567.6875 - val_mae: 325.8916 - val_mse: 358567.6875\n",
      "Epoch 26/300\n",
      "\u001b[1m683/683\u001b[0m \u001b[32m━━━━━━━━━━━━━━━━━━━━\u001b[0m\u001b[37m\u001b[0m \u001b[1m1s\u001b[0m 750us/step - loss: 292628.4375 - mae: 295.2937 - mse: 292628.4375 - val_loss: 332485.6562 - val_mae: 309.9828 - val_mse: 332485.6562\n",
      "Epoch 27/300\n",
      "\u001b[1m683/683\u001b[0m \u001b[32m━━━━━━━━━━━━━━━━━━━━\u001b[0m\u001b[37m\u001b[0m \u001b[1m1s\u001b[0m 760us/step - loss: 295456.9688 - mae: 295.4420 - mse: 295456.9688 - val_loss: 328361.2500 - val_mae: 304.6111 - val_mse: 328361.2500\n",
      "Epoch 28/300\n",
      "\u001b[1m683/683\u001b[0m \u001b[32m━━━━━━━━━━━━━━━━━━━━\u001b[0m\u001b[37m\u001b[0m \u001b[1m1s\u001b[0m 749us/step - loss: 288628.2188 - mae: 295.8290 - mse: 288628.2188 - val_loss: 314446.4688 - val_mae: 298.9053 - val_mse: 314446.4688\n",
      "Epoch 29/300\n",
      "\u001b[1m683/683\u001b[0m \u001b[32m━━━━━━━━━━━━━━━━━━━━\u001b[0m\u001b[37m\u001b[0m \u001b[1m1s\u001b[0m 740us/step - loss: 289308.2188 - mae: 289.9088 - mse: 289308.2188 - val_loss: 326294.0312 - val_mae: 299.4468 - val_mse: 326294.0312\n",
      "Epoch 30/300\n",
      "\u001b[1m683/683\u001b[0m \u001b[32m━━━━━━━━━━━━━━━━━━━━\u001b[0m\u001b[37m\u001b[0m \u001b[1m1s\u001b[0m 773us/step - loss: 299731.2812 - mae: 299.2927 - mse: 299731.2812 - val_loss: 336754.7500 - val_mae: 315.4049 - val_mse: 336754.7500\n",
      "Epoch 31/300\n",
      "\u001b[1m683/683\u001b[0m \u001b[32m━━━━━━━━━━━━━━━━━━━━\u001b[0m\u001b[37m\u001b[0m \u001b[1m1s\u001b[0m 758us/step - loss: 290958.0312 - mae: 293.8970 - mse: 290958.0312 - val_loss: 329460.5000 - val_mae: 308.1467 - val_mse: 329460.5000\n",
      "Epoch 32/300\n",
      "\u001b[1m683/683\u001b[0m \u001b[32m━━━━━━━━━━━━━━━━━━━━\u001b[0m\u001b[37m\u001b[0m \u001b[1m1s\u001b[0m 749us/step - loss: 290319.1562 - mae: 292.3449 - mse: 290319.1562 - val_loss: 317971.2500 - val_mae: 298.3548 - val_mse: 317971.2500\n",
      "Epoch 33/300\n",
      "\u001b[1m683/683\u001b[0m \u001b[32m━━━━━━━━━━━━━━━━━━━━\u001b[0m\u001b[37m\u001b[0m \u001b[1m1s\u001b[0m 741us/step - loss: 293261.9062 - mae: 297.9702 - mse: 293261.9062 - val_loss: 317797.4688 - val_mae: 296.7621 - val_mse: 317797.4688\n",
      "Epoch 34/300\n",
      "\u001b[1m683/683\u001b[0m \u001b[32m━━━━━━━━━━━━━━━━━━━━\u001b[0m\u001b[37m\u001b[0m \u001b[1m1s\u001b[0m 756us/step - loss: 294292.2500 - mae: 294.9018 - mse: 294292.2500 - val_loss: 318496.0625 - val_mae: 301.3445 - val_mse: 318496.0625\n",
      "Epoch 35/300\n",
      "\u001b[1m683/683\u001b[0m \u001b[32m━━━━━━━━━━━━━━━━━━━━\u001b[0m\u001b[37m\u001b[0m \u001b[1m1s\u001b[0m 736us/step - loss: 286308.5000 - mae: 294.5554 - mse: 286308.5000 - val_loss: 422522.9062 - val_mae: 329.2140 - val_mse: 422522.9062\n",
      "Epoch 36/300\n",
      "\u001b[1m683/683\u001b[0m \u001b[32m━━━━━━━━━━━━━━━━━━━━\u001b[0m\u001b[37m\u001b[0m \u001b[1m1s\u001b[0m 769us/step - loss: 302136.1250 - mae: 299.5534 - mse: 302136.1250 - val_loss: 317963.5938 - val_mae: 310.4340 - val_mse: 317963.5938\n",
      "Epoch 37/300\n",
      "\u001b[1m683/683\u001b[0m \u001b[32m━━━━━━━━━━━━━━━━━━━━\u001b[0m\u001b[37m\u001b[0m \u001b[1m1s\u001b[0m 767us/step - loss: 290954.8125 - mae: 293.6290 - mse: 290954.8125 - val_loss: 353238.5312 - val_mae: 300.8764 - val_mse: 353238.5312\n",
      "Epoch 38/300\n",
      "\u001b[1m683/683\u001b[0m \u001b[32m━━━━━━━━━━━━━━━━━━━━\u001b[0m\u001b[37m\u001b[0m \u001b[1m1s\u001b[0m 752us/step - loss: 298070.7812 - mae: 294.3516 - mse: 298070.7812 - val_loss: 353765.5938 - val_mae: 309.0306 - val_mse: 353765.5938\n",
      "Epoch 39/300\n",
      "\u001b[1m683/683\u001b[0m \u001b[32m━━━━━━━━━━━━━━━━━━━━\u001b[0m\u001b[37m\u001b[0m \u001b[1m1s\u001b[0m 739us/step - loss: 284774.3438 - mae: 292.7801 - mse: 284774.3438 - val_loss: 366988.9062 - val_mae: 341.2275 - val_mse: 366988.9062\n",
      "Epoch 40/300\n",
      "\u001b[1m683/683\u001b[0m \u001b[32m━━━━━━━━━━━━━━━━━━━━\u001b[0m\u001b[37m\u001b[0m \u001b[1m1s\u001b[0m 736us/step - loss: 290471.8750 - mae: 293.5869 - mse: 290471.8750 - val_loss: 328400.2812 - val_mae: 314.5518 - val_mse: 328400.2812\n",
      "Epoch 41/300\n",
      "\u001b[1m683/683\u001b[0m \u001b[32m━━━━━━━━━━━━━━━━━━━━\u001b[0m\u001b[37m\u001b[0m \u001b[1m1s\u001b[0m 742us/step - loss: 298710.7500 - mae: 296.6135 - mse: 298710.7500 - val_loss: 322754.2500 - val_mae: 295.4251 - val_mse: 322754.2500\n",
      "Epoch 42/300\n",
      "\u001b[1m683/683\u001b[0m \u001b[32m━━━━━━━━━━━━━━━━━━━━\u001b[0m\u001b[37m\u001b[0m \u001b[1m1s\u001b[0m 745us/step - loss: 281959.7812 - mae: 289.6157 - mse: 281959.7812 - val_loss: 325931.3750 - val_mae: 303.1441 - val_mse: 325931.3750\n",
      "Epoch 43/300\n",
      "\u001b[1m683/683\u001b[0m \u001b[32m━━━━━━━━━━━━━━━━━━━━\u001b[0m\u001b[37m\u001b[0m \u001b[1m1s\u001b[0m 741us/step - loss: 282750.8125 - mae: 290.9655 - mse: 282750.8125 - val_loss: 313720.3750 - val_mae: 292.4028 - val_mse: 313720.3750\n",
      "Epoch 44/300\n",
      "\u001b[1m683/683\u001b[0m \u001b[32m━━━━━━━━━━━━━━━━━━━━\u001b[0m\u001b[37m\u001b[0m \u001b[1m1s\u001b[0m 738us/step - loss: 295081.0000 - mae: 292.8962 - mse: 295081.0000 - val_loss: 313035.2500 - val_mae: 292.5686 - val_mse: 313035.2500\n",
      "Epoch 45/300\n",
      "\u001b[1m683/683\u001b[0m \u001b[32m━━━━━━━━━━━━━━━━━━━━\u001b[0m\u001b[37m\u001b[0m \u001b[1m1s\u001b[0m 739us/step - loss: 284095.5000 - mae: 289.4711 - mse: 284095.5000 - val_loss: 331770.5312 - val_mae: 309.0518 - val_mse: 331770.5312\n",
      "Epoch 46/300\n",
      "\u001b[1m683/683\u001b[0m \u001b[32m━━━━━━━━━━━━━━━━━━━━\u001b[0m\u001b[37m\u001b[0m \u001b[1m1s\u001b[0m 755us/step - loss: 281918.7812 - mae: 287.6501 - mse: 281918.7812 - val_loss: 303555.2812 - val_mae: 288.8146 - val_mse: 303555.2812\n",
      "Epoch 47/300\n",
      "\u001b[1m683/683\u001b[0m \u001b[32m━━━━━━━━━━━━━━━━━━━━\u001b[0m\u001b[37m\u001b[0m \u001b[1m1s\u001b[0m 740us/step - loss: 278441.8438 - mae: 287.3033 - mse: 278441.8438 - val_loss: 357865.0312 - val_mae: 324.0444 - val_mse: 357865.0312\n",
      "Epoch 48/300\n",
      "\u001b[1m683/683\u001b[0m \u001b[32m━━━━━━━━━━━━━━━━━━━━\u001b[0m\u001b[37m\u001b[0m \u001b[1m1s\u001b[0m 737us/step - loss: 281377.0312 - mae: 288.2102 - mse: 281377.0312 - val_loss: 316660.4375 - val_mae: 299.0656 - val_mse: 316660.4375\n",
      "Epoch 49/300\n",
      "\u001b[1m683/683\u001b[0m \u001b[32m━━━━━━━━━━━━━━━━━━━━\u001b[0m\u001b[37m\u001b[0m \u001b[1m1s\u001b[0m 737us/step - loss: 267912.4688 - mae: 281.3526 - mse: 267912.4688 - val_loss: 315579.0625 - val_mae: 294.5922 - val_mse: 315579.0625\n",
      "Epoch 50/300\n",
      "\u001b[1m683/683\u001b[0m \u001b[32m━━━━━━━━━━━━━━━━━━━━\u001b[0m\u001b[37m\u001b[0m \u001b[1m1s\u001b[0m 767us/step - loss: 283348.4062 - mae: 286.8618 - mse: 283348.4062 - val_loss: 341003.3125 - val_mae: 313.2696 - val_mse: 341003.3125\n",
      "Epoch 51/300\n",
      "\u001b[1m683/683\u001b[0m \u001b[32m━━━━━━━━━━━━━━━━━━━━\u001b[0m\u001b[37m\u001b[0m \u001b[1m1s\u001b[0m 745us/step - loss: 283717.6250 - mae: 290.2707 - mse: 283717.6250 - val_loss: 309970.9375 - val_mae: 295.1100 - val_mse: 309970.9375\n",
      "Epoch 52/300\n",
      "\u001b[1m683/683\u001b[0m \u001b[32m━━━━━━━━━━━━━━━━━━━━\u001b[0m\u001b[37m\u001b[0m \u001b[1m1s\u001b[0m 738us/step - loss: 271478.5938 - mae: 283.2281 - mse: 271478.5938 - val_loss: 315820.8125 - val_mae: 297.4747 - val_mse: 315820.8125\n",
      "Epoch 53/300\n",
      "\u001b[1m683/683\u001b[0m \u001b[32m━━━━━━━━━━━━━━━━━━━━\u001b[0m\u001b[37m\u001b[0m \u001b[1m1s\u001b[0m 740us/step - loss: 294635.8750 - mae: 290.3730 - mse: 294635.8750 - val_loss: 325847.6562 - val_mae: 293.9880 - val_mse: 325847.6562\n",
      "Epoch 54/300\n",
      "\u001b[1m683/683\u001b[0m \u001b[32m━━━━━━━━━━━━━━━━━━━━\u001b[0m\u001b[37m\u001b[0m \u001b[1m1s\u001b[0m 770us/step - loss: 272756.5938 - mae: 285.3401 - mse: 272756.5938 - val_loss: 322713.1250 - val_mae: 302.5424 - val_mse: 322713.1250\n",
      "Epoch 55/300\n",
      "\u001b[1m683/683\u001b[0m \u001b[32m━━━━━━━━━━━━━━━━━━━━\u001b[0m\u001b[37m\u001b[0m \u001b[1m1s\u001b[0m 781us/step - loss: 279522.4375 - mae: 289.0539 - mse: 279522.4375 - val_loss: 311464.6250 - val_mae: 296.2643 - val_mse: 311464.6250\n",
      "Epoch 56/300\n",
      "\u001b[1m683/683\u001b[0m \u001b[32m━━━━━━━━━━━━━━━━━━━━\u001b[0m\u001b[37m\u001b[0m \u001b[1m1s\u001b[0m 763us/step - loss: 286331.7188 - mae: 289.7137 - mse: 286331.7188 - val_loss: 319690.3750 - val_mae: 301.6538 - val_mse: 319690.3750\n",
      "Epoch 57/300\n",
      "\u001b[1m683/683\u001b[0m \u001b[32m━━━━━━━━━━━━━━━━━━━━\u001b[0m\u001b[37m\u001b[0m \u001b[1m1s\u001b[0m 782us/step - loss: 281804.3750 - mae: 289.6901 - mse: 281804.3750 - val_loss: 317784.7188 - val_mae: 300.4287 - val_mse: 317784.7188\n",
      "Epoch 58/300\n",
      "\u001b[1m683/683\u001b[0m \u001b[32m━━━━━━━━━━━━━━━━━━━━\u001b[0m\u001b[37m\u001b[0m \u001b[1m1s\u001b[0m 767us/step - loss: 282095.4688 - mae: 289.3063 - mse: 282095.4688 - val_loss: 307449.7500 - val_mae: 292.4228 - val_mse: 307449.7500\n",
      "Epoch 59/300\n",
      "\u001b[1m683/683\u001b[0m \u001b[32m━━━━━━━━━━━━━━━━━━━━\u001b[0m\u001b[37m\u001b[0m \u001b[1m1s\u001b[0m 740us/step - loss: 291207.4688 - mae: 289.7116 - mse: 291207.4688 - val_loss: 310799.2812 - val_mae: 297.3205 - val_mse: 310799.2812\n",
      "Epoch 60/300\n",
      "\u001b[1m683/683\u001b[0m \u001b[32m━━━━━━━━━━━━━━━━━━━━\u001b[0m\u001b[37m\u001b[0m \u001b[1m1s\u001b[0m 765us/step - loss: 284627.6875 - mae: 290.9853 - mse: 284627.6875 - val_loss: 305111.3750 - val_mae: 300.2829 - val_mse: 305111.3750\n",
      "Epoch 61/300\n",
      "\u001b[1m683/683\u001b[0m \u001b[32m━━━━━━━━━━━━━━━━━━━━\u001b[0m\u001b[37m\u001b[0m \u001b[1m1s\u001b[0m 744us/step - loss: 273899.6250 - mae: 284.4474 - mse: 273899.6250 - val_loss: 306517.5312 - val_mae: 291.0708 - val_mse: 306517.5312\n",
      "Epoch 62/300\n",
      "\u001b[1m683/683\u001b[0m \u001b[32m━━━━━━━━━━━━━━━━━━━━\u001b[0m\u001b[37m\u001b[0m \u001b[1m1s\u001b[0m 756us/step - loss: 276714.7188 - mae: 286.5526 - mse: 276714.7188 - val_loss: 322528.5625 - val_mae: 299.7923 - val_mse: 322528.5625\n",
      "Epoch 63/300\n",
      "\u001b[1m683/683\u001b[0m \u001b[32m━━━━━━━━━━━━━━━━━━━━\u001b[0m\u001b[37m\u001b[0m \u001b[1m1s\u001b[0m 765us/step - loss: 271646.8438 - mae: 284.9512 - mse: 271646.8438 - val_loss: 313080.3125 - val_mae: 292.8961 - val_mse: 313080.3125\n",
      "Epoch 64/300\n",
      "\u001b[1m683/683\u001b[0m \u001b[32m━━━━━━━━━━━━━━━━━━━━\u001b[0m\u001b[37m\u001b[0m \u001b[1m1s\u001b[0m 754us/step - loss: 277413.6250 - mae: 287.6257 - mse: 277413.6250 - val_loss: 299855.9688 - val_mae: 286.4014 - val_mse: 299855.9688\n",
      "Epoch 65/300\n",
      "\u001b[1m683/683\u001b[0m \u001b[32m━━━━━━━━━━━━━━━━━━━━\u001b[0m\u001b[37m\u001b[0m \u001b[1m1s\u001b[0m 745us/step - loss: 271979.1562 - mae: 280.3373 - mse: 271979.1562 - val_loss: 303742.8438 - val_mae: 290.4345 - val_mse: 303742.8438\n",
      "Epoch 66/300\n",
      "\u001b[1m683/683\u001b[0m \u001b[32m━━━━━━━━━━━━━━━━━━━━\u001b[0m\u001b[37m\u001b[0m \u001b[1m1s\u001b[0m 771us/step - loss: 273845.8125 - mae: 281.3293 - mse: 273845.8125 - val_loss: 311192.0625 - val_mae: 289.1602 - val_mse: 311192.0625\n",
      "Epoch 67/300\n",
      "\u001b[1m683/683\u001b[0m \u001b[32m━━━━━━━━━━━━━━━━━━━━\u001b[0m\u001b[37m\u001b[0m \u001b[1m1s\u001b[0m 745us/step - loss: 279153.1562 - mae: 283.3286 - mse: 279153.1562 - val_loss: 311005.8125 - val_mae: 290.0834 - val_mse: 311005.8125\n",
      "Epoch 68/300\n",
      "\u001b[1m683/683\u001b[0m \u001b[32m━━━━━━━━━━━━━━━━━━━━\u001b[0m\u001b[37m\u001b[0m \u001b[1m1s\u001b[0m 746us/step - loss: 284948.9375 - mae: 287.4436 - mse: 284948.9375 - val_loss: 303990.7812 - val_mae: 298.2480 - val_mse: 303990.7812\n",
      "Epoch 69/300\n",
      "\u001b[1m683/683\u001b[0m \u001b[32m━━━━━━━━━━━━━━━━━━━━\u001b[0m\u001b[37m\u001b[0m \u001b[1m1s\u001b[0m 762us/step - loss: 270946.0312 - mae: 281.0713 - mse: 270946.0312 - val_loss: 312194.7188 - val_mae: 297.2329 - val_mse: 312194.7188\n",
      "Epoch 70/300\n",
      "\u001b[1m683/683\u001b[0m \u001b[32m━━━━━━━━━━━━━━━━━━━━\u001b[0m\u001b[37m\u001b[0m \u001b[1m1s\u001b[0m 758us/step - loss: 283481.8438 - mae: 285.6974 - mse: 283481.8438 - val_loss: 321575.7812 - val_mae: 294.3451 - val_mse: 321575.7812\n",
      "Epoch 71/300\n",
      "\u001b[1m683/683\u001b[0m \u001b[32m━━━━━━━━━━━━━━━━━━━━\u001b[0m\u001b[37m\u001b[0m \u001b[1m1s\u001b[0m 744us/step - loss: 270225.7812 - mae: 282.2430 - mse: 270225.7812 - val_loss: 324585.9375 - val_mae: 303.8922 - val_mse: 324585.9375\n",
      "Epoch 72/300\n",
      "\u001b[1m683/683\u001b[0m \u001b[32m━━━━━━━━━━━━━━━━━━━━\u001b[0m\u001b[37m\u001b[0m \u001b[1m1s\u001b[0m 761us/step - loss: 286531.8438 - mae: 289.6024 - mse: 286531.8438 - val_loss: 307936.5000 - val_mae: 295.1763 - val_mse: 307936.5000\n",
      "Epoch 73/300\n",
      "\u001b[1m683/683\u001b[0m \u001b[32m━━━━━━━━━━━━━━━━━━━━\u001b[0m\u001b[37m\u001b[0m \u001b[1m1s\u001b[0m 740us/step - loss: 267565.1250 - mae: 280.0335 - mse: 267565.1250 - val_loss: 320277.4688 - val_mae: 296.1967 - val_mse: 320277.4688\n",
      "Epoch 74/300\n",
      "\u001b[1m683/683\u001b[0m \u001b[32m━━━━━━━━━━━━━━━━━━━━\u001b[0m\u001b[37m\u001b[0m \u001b[1m1s\u001b[0m 757us/step - loss: 279209.9375 - mae: 282.4838 - mse: 279209.9375 - val_loss: 345546.3438 - val_mae: 304.3733 - val_mse: 345546.3438\n",
      "Epoch 75/300\n",
      "\u001b[1m683/683\u001b[0m \u001b[32m━━━━━━━━━━━━━━━━━━━━\u001b[0m\u001b[37m\u001b[0m \u001b[1m1s\u001b[0m 757us/step - loss: 271013.9375 - mae: 280.7985 - mse: 271013.9375 - val_loss: 310013.9062 - val_mae: 293.8390 - val_mse: 310013.9062\n",
      "Epoch 76/300\n",
      "\u001b[1m683/683\u001b[0m \u001b[32m━━━━━━━━━━━━━━━━━━━━\u001b[0m\u001b[37m\u001b[0m \u001b[1m1s\u001b[0m 740us/step - loss: 275836.9688 - mae: 285.2888 - mse: 275836.9688 - val_loss: 307003.5000 - val_mae: 285.4801 - val_mse: 307003.5000\n",
      "Epoch 77/300\n",
      "\u001b[1m683/683\u001b[0m \u001b[32m━━━━━━━━━━━━━━━━━━━━\u001b[0m\u001b[37m\u001b[0m \u001b[1m1s\u001b[0m 736us/step - loss: 280834.7812 - mae: 285.1999 - mse: 280834.7812 - val_loss: 317700.4688 - val_mae: 300.1815 - val_mse: 317700.4688\n",
      "Epoch 78/300\n",
      "\u001b[1m683/683\u001b[0m \u001b[32m━━━━━━━━━━━━━━━━━━━━\u001b[0m\u001b[37m\u001b[0m \u001b[1m1s\u001b[0m 760us/step - loss: 274929.6562 - mae: 283.1553 - mse: 274929.6562 - val_loss: 328419.4062 - val_mae: 312.8883 - val_mse: 328419.4062\n",
      "Epoch 79/300\n",
      "\u001b[1m683/683\u001b[0m \u001b[32m━━━━━━━━━━━━━━━━━━━━\u001b[0m\u001b[37m\u001b[0m \u001b[1m1s\u001b[0m 751us/step - loss: 268175.1250 - mae: 280.0543 - mse: 268175.1250 - val_loss: 298864.5938 - val_mae: 285.6478 - val_mse: 298864.5938\n",
      "Epoch 80/300\n",
      "\u001b[1m683/683\u001b[0m \u001b[32m━━━━━━━━━━━━━━━━━━━━\u001b[0m\u001b[37m\u001b[0m \u001b[1m1s\u001b[0m 764us/step - loss: 264263.5312 - mae: 277.6362 - mse: 264263.5312 - val_loss: 305358.0938 - val_mae: 286.1121 - val_mse: 305358.0938\n",
      "Epoch 81/300\n",
      "\u001b[1m683/683\u001b[0m \u001b[32m━━━━━━━━━━━━━━━━━━━━\u001b[0m\u001b[37m\u001b[0m \u001b[1m1s\u001b[0m 743us/step - loss: 263867.4062 - mae: 277.5235 - mse: 263867.4062 - val_loss: 303541.8750 - val_mae: 292.4081 - val_mse: 303541.8750\n",
      "Epoch 82/300\n",
      "\u001b[1m683/683\u001b[0m \u001b[32m━━━━━━━━━━━━━━━━━━━━\u001b[0m\u001b[37m\u001b[0m \u001b[1m1s\u001b[0m 754us/step - loss: 261143.7812 - mae: 276.6092 - mse: 261143.7812 - val_loss: 303750.9688 - val_mae: 287.8232 - val_mse: 303750.9688\n",
      "Epoch 83/300\n",
      "\u001b[1m683/683\u001b[0m \u001b[32m━━━━━━━━━━━━━━━━━━━━\u001b[0m\u001b[37m\u001b[0m \u001b[1m1s\u001b[0m 765us/step - loss: 257920.7031 - mae: 275.3552 - mse: 257920.7031 - val_loss: 331019.2188 - val_mae: 302.4859 - val_mse: 331019.2188\n",
      "Epoch 84/300\n",
      "\u001b[1m683/683\u001b[0m \u001b[32m━━━━━━━━━━━━━━━━━━━━\u001b[0m\u001b[37m\u001b[0m \u001b[1m1s\u001b[0m 751us/step - loss: 259065.5781 - mae: 276.1614 - mse: 259065.5781 - val_loss: 338932.0938 - val_mae: 307.1074 - val_mse: 338932.0938\n",
      "Epoch 85/300\n",
      "\u001b[1m683/683\u001b[0m \u001b[32m━━━━━━━━━━━━━━━━━━━━\u001b[0m\u001b[37m\u001b[0m \u001b[1m1s\u001b[0m 762us/step - loss: 264807.9062 - mae: 279.4773 - mse: 264807.9062 - val_loss: 301271.3438 - val_mae: 288.7110 - val_mse: 301271.3438\n",
      "Epoch 86/300\n",
      "\u001b[1m683/683\u001b[0m \u001b[32m━━━━━━━━━━━━━━━━━━━━\u001b[0m\u001b[37m\u001b[0m \u001b[1m1s\u001b[0m 758us/step - loss: 263870.2812 - mae: 278.5178 - mse: 263870.2812 - val_loss: 304736.4688 - val_mae: 282.4049 - val_mse: 304736.4688\n",
      "Epoch 87/300\n",
      "\u001b[1m683/683\u001b[0m \u001b[32m━━━━━━━━━━━━━━━━━━━━\u001b[0m\u001b[37m\u001b[0m \u001b[1m1s\u001b[0m 767us/step - loss: 256899.1875 - mae: 273.9107 - mse: 256899.1875 - val_loss: 363864.8438 - val_mae: 310.3871 - val_mse: 363864.8438\n",
      "Epoch 88/300\n",
      "\u001b[1m683/683\u001b[0m \u001b[32m━━━━━━━━━━━━━━━━━━━━\u001b[0m\u001b[37m\u001b[0m \u001b[1m1s\u001b[0m 767us/step - loss: 275762.4062 - mae: 284.5641 - mse: 275762.4062 - val_loss: 320041.4375 - val_mae: 304.6800 - val_mse: 320041.4375\n",
      "Epoch 89/300\n",
      "\u001b[1m683/683\u001b[0m \u001b[32m━━━━━━━━━━━━━━━━━━━━\u001b[0m\u001b[37m\u001b[0m \u001b[1m1s\u001b[0m 754us/step - loss: 274311.8750 - mae: 284.5302 - mse: 274311.8750 - val_loss: 307576.1875 - val_mae: 290.5350 - val_mse: 307576.1875\n",
      "Epoch 90/300\n",
      "\u001b[1m683/683\u001b[0m \u001b[32m━━━━━━━━━━━━━━━━━━━━\u001b[0m\u001b[37m\u001b[0m \u001b[1m1s\u001b[0m 765us/step - loss: 259769.4688 - mae: 274.3778 - mse: 259769.4688 - val_loss: 302337.6250 - val_mae: 285.6796 - val_mse: 302337.6250\n",
      "Epoch 91/300\n",
      "\u001b[1m683/683\u001b[0m \u001b[32m━━━━━━━━━━━━━━━━━━━━\u001b[0m\u001b[37m\u001b[0m \u001b[1m1s\u001b[0m 750us/step - loss: 267353.3438 - mae: 279.0485 - mse: 267353.3438 - val_loss: 328355.3750 - val_mae: 308.6024 - val_mse: 328355.3750\n",
      "Epoch 92/300\n",
      "\u001b[1m683/683\u001b[0m \u001b[32m━━━━━━━━━━━━━━━━━━━━\u001b[0m\u001b[37m\u001b[0m \u001b[1m1s\u001b[0m 766us/step - loss: 263071.8438 - mae: 277.3631 - mse: 263071.8438 - val_loss: 299702.8438 - val_mae: 289.6757 - val_mse: 299702.8438\n",
      "Epoch 93/300\n",
      "\u001b[1m683/683\u001b[0m \u001b[32m━━━━━━━━━━━━━━━━━━━━\u001b[0m\u001b[37m\u001b[0m \u001b[1m1s\u001b[0m 739us/step - loss: 278781.5312 - mae: 284.9740 - mse: 278781.5312 - val_loss: 305557.0625 - val_mae: 285.0263 - val_mse: 305557.0625\n",
      "Epoch 94/300\n",
      "\u001b[1m683/683\u001b[0m \u001b[32m━━━━━━━━━━━━━━━━━━━━\u001b[0m\u001b[37m\u001b[0m \u001b[1m1s\u001b[0m 775us/step - loss: 260904.1562 - mae: 275.4032 - mse: 260904.1562 - val_loss: 314659.0938 - val_mae: 295.8000 - val_mse: 314659.0938\n",
      "Epoch 95/300\n",
      "\u001b[1m683/683\u001b[0m \u001b[32m━━━━━━━━━━━━━━━━━━━━\u001b[0m\u001b[37m\u001b[0m \u001b[1m1s\u001b[0m 747us/step - loss: 270935.2812 - mae: 278.7588 - mse: 270935.2812 - val_loss: 326990.0938 - val_mae: 312.3549 - val_mse: 326990.0938\n",
      "Epoch 96/300\n",
      "\u001b[1m683/683\u001b[0m \u001b[32m━━━━━━━━━━━━━━━━━━━━\u001b[0m\u001b[37m\u001b[0m \u001b[1m1s\u001b[0m 762us/step - loss: 257645.5312 - mae: 275.4099 - mse: 257645.5312 - val_loss: 310356.1250 - val_mae: 297.1483 - val_mse: 310356.1250\n",
      "Epoch 97/300\n",
      "\u001b[1m683/683\u001b[0m \u001b[32m━━━━━━━━━━━━━━━━━━━━\u001b[0m\u001b[37m\u001b[0m \u001b[1m1s\u001b[0m 743us/step - loss: 264018.3438 - mae: 278.4856 - mse: 264018.3438 - val_loss: 306904.6875 - val_mae: 293.8854 - val_mse: 306904.6875\n",
      "Epoch 98/300\n",
      "\u001b[1m683/683\u001b[0m \u001b[32m━━━━━━━━━━━━━━━━━━━━\u001b[0m\u001b[37m\u001b[0m \u001b[1m1s\u001b[0m 778us/step - loss: 261231.1562 - mae: 277.1856 - mse: 261231.1562 - val_loss: 328038.7500 - val_mae: 306.2804 - val_mse: 328038.7500\n",
      "Epoch 99/300\n",
      "\u001b[1m683/683\u001b[0m \u001b[32m━━━━━━━━━━━━━━━━━━━━\u001b[0m\u001b[37m\u001b[0m \u001b[1m1s\u001b[0m 751us/step - loss: 264761.5938 - mae: 276.9228 - mse: 264761.5938 - val_loss: 318515.4375 - val_mae: 297.8209 - val_mse: 318515.4375\n",
      "Epoch 100/300\n",
      "\u001b[1m683/683\u001b[0m \u001b[32m━━━━━━━━━━━━━━━━━━━━\u001b[0m\u001b[37m\u001b[0m \u001b[1m1s\u001b[0m 765us/step - loss: 264537.0938 - mae: 277.2171 - mse: 264537.0938 - val_loss: 302426.7812 - val_mae: 283.8613 - val_mse: 302426.7812\n",
      "Epoch 101/300\n",
      "\u001b[1m683/683\u001b[0m \u001b[32m━━━━━━━━━━━━━━━━━━━━\u001b[0m\u001b[37m\u001b[0m \u001b[1m1s\u001b[0m 748us/step - loss: 267933.8125 - mae: 278.4384 - mse: 267933.8125 - val_loss: 298254.6875 - val_mae: 285.9853 - val_mse: 298254.6875\n",
      "Epoch 102/300\n",
      "\u001b[1m683/683\u001b[0m \u001b[32m━━━━━━━━━━━━━━━━━━━━\u001b[0m\u001b[37m\u001b[0m \u001b[1m1s\u001b[0m 772us/step - loss: 260711.5469 - mae: 276.4607 - mse: 260711.5469 - val_loss: 306939.5625 - val_mae: 286.4593 - val_mse: 306939.5625\n",
      "Epoch 103/300\n",
      "\u001b[1m683/683\u001b[0m \u001b[32m━━━━━━━━━━━━━━━━━━━━\u001b[0m\u001b[37m\u001b[0m \u001b[1m1s\u001b[0m 743us/step - loss: 261807.9688 - mae: 276.2651 - mse: 261807.9688 - val_loss: 344875.1250 - val_mae: 316.3349 - val_mse: 344875.1250\n",
      "Epoch 104/300\n",
      "\u001b[1m683/683\u001b[0m \u001b[32m━━━━━━━━━━━━━━━━━━━━\u001b[0m\u001b[37m\u001b[0m \u001b[1m1s\u001b[0m 763us/step - loss: 248805.8125 - mae: 267.7151 - mse: 248805.8125 - val_loss: 310281.2812 - val_mae: 290.5228 - val_mse: 310281.2812\n",
      "Epoch 105/300\n",
      "\u001b[1m683/683\u001b[0m \u001b[32m━━━━━━━━━━━━━━━━━━━━\u001b[0m\u001b[37m\u001b[0m \u001b[1m1s\u001b[0m 756us/step - loss: 268415.8125 - mae: 279.7502 - mse: 268415.8125 - val_loss: 306988.4062 - val_mae: 299.6612 - val_mse: 306988.4062\n",
      "Epoch 106/300\n",
      "\u001b[1m683/683\u001b[0m \u001b[32m━━━━━━━━━━━━━━━━━━━━\u001b[0m\u001b[37m\u001b[0m \u001b[1m1s\u001b[0m 775us/step - loss: 261168.9844 - mae: 276.3716 - mse: 261168.9844 - val_loss: 308948.0625 - val_mae: 293.5503 - val_mse: 308948.0625\n",
      "Epoch 107/300\n",
      "\u001b[1m683/683\u001b[0m \u001b[32m━━━━━━━━━━━━━━━━━━━━\u001b[0m\u001b[37m\u001b[0m \u001b[1m1s\u001b[0m 743us/step - loss: 266978.2188 - mae: 276.6891 - mse: 266978.2188 - val_loss: 315573.5000 - val_mae: 291.0826 - val_mse: 315573.5000\n",
      "Epoch 108/300\n",
      "\u001b[1m683/683\u001b[0m \u001b[32m━━━━━━━━━━━━━━━━━━━━\u001b[0m\u001b[37m\u001b[0m \u001b[1m1s\u001b[0m 760us/step - loss: 258341.4688 - mae: 273.8109 - mse: 258341.4688 - val_loss: 305768.7812 - val_mae: 289.9134 - val_mse: 305768.7812\n",
      "Epoch 109/300\n",
      "\u001b[1m683/683\u001b[0m \u001b[32m━━━━━━━━━━━━━━━━━━━━\u001b[0m\u001b[37m\u001b[0m \u001b[1m1s\u001b[0m 743us/step - loss: 261433.9531 - mae: 275.6494 - mse: 261433.9531 - val_loss: 299543.3750 - val_mae: 284.8444 - val_mse: 299543.3750\n",
      "Epoch 110/300\n",
      "\u001b[1m683/683\u001b[0m \u001b[32m━━━━━━━━━━━━━━━━━━━━\u001b[0m\u001b[37m\u001b[0m \u001b[1m1s\u001b[0m 774us/step - loss: 245251.1719 - mae: 267.7457 - mse: 245251.1719 - val_loss: 334477.5625 - val_mae: 315.9952 - val_mse: 334477.5625\n",
      "Epoch 111/300\n",
      "\u001b[1m683/683\u001b[0m \u001b[32m━━━━━━━━━━━━━━━━━━━━\u001b[0m\u001b[37m\u001b[0m \u001b[1m1s\u001b[0m 743us/step - loss: 269558.6562 - mae: 279.5411 - mse: 269558.6562 - val_loss: 308786.8750 - val_mae: 287.3632 - val_mse: 308786.8750\n",
      "Epoch 112/300\n",
      "\u001b[1m683/683\u001b[0m \u001b[32m━━━━━━━━━━━━━━━━━━━━\u001b[0m\u001b[37m\u001b[0m \u001b[1m1s\u001b[0m 771us/step - loss: 263926.1875 - mae: 278.6290 - mse: 263926.1875 - val_loss: 315733.1875 - val_mae: 297.1240 - val_mse: 315733.1875\n",
      "Epoch 113/300\n",
      "\u001b[1m683/683\u001b[0m \u001b[32m━━━━━━━━━━━━━━━━━━━━\u001b[0m\u001b[37m\u001b[0m \u001b[1m1s\u001b[0m 744us/step - loss: 251945.9844 - mae: 270.5738 - mse: 251945.9844 - val_loss: 306253.2500 - val_mae: 293.6591 - val_mse: 306253.2500\n",
      "Epoch 114/300\n",
      "\u001b[1m683/683\u001b[0m \u001b[32m━━━━━━━━━━━━━━━━━━━━\u001b[0m\u001b[37m\u001b[0m \u001b[1m1s\u001b[0m 767us/step - loss: 261586.2500 - mae: 275.8586 - mse: 261586.2500 - val_loss: 304437.0625 - val_mae: 289.1188 - val_mse: 304437.0625\n",
      "Epoch 115/300\n",
      "\u001b[1m683/683\u001b[0m \u001b[32m━━━━━━━━━━━━━━━━━━━━\u001b[0m\u001b[37m\u001b[0m \u001b[1m1s\u001b[0m 749us/step - loss: 253248.2969 - mae: 273.8743 - mse: 253248.2969 - val_loss: 311506.9375 - val_mae: 284.7910 - val_mse: 311506.9375\n",
      "Epoch 116/300\n",
      "\u001b[1m683/683\u001b[0m \u001b[32m━━━━━━━━━━━━━━━━━━━━\u001b[0m\u001b[37m\u001b[0m \u001b[1m1s\u001b[0m 771us/step - loss: 256326.0000 - mae: 272.5735 - mse: 256326.0000 - val_loss: 313030.4062 - val_mae: 288.0992 - val_mse: 313030.4062\n",
      "Epoch 117/300\n",
      "\u001b[1m683/683\u001b[0m \u001b[32m━━━━━━━━━━━━━━━━━━━━\u001b[0m\u001b[37m\u001b[0m \u001b[1m1s\u001b[0m 757us/step - loss: 267741.2500 - mae: 279.7647 - mse: 267741.2500 - val_loss: 314617.2188 - val_mae: 291.1035 - val_mse: 314617.2188\n",
      "Epoch 118/300\n",
      "\u001b[1m683/683\u001b[0m \u001b[32m━━━━━━━━━━━━━━━━━━━━\u001b[0m\u001b[37m\u001b[0m \u001b[1m1s\u001b[0m 763us/step - loss: 262412.5625 - mae: 274.9022 - mse: 262412.5625 - val_loss: 309707.2188 - val_mae: 288.0176 - val_mse: 309707.2188\n",
      "Epoch 119/300\n",
      "\u001b[1m683/683\u001b[0m \u001b[32m━━━━━━━━━━━━━━━━━━━━\u001b[0m\u001b[37m\u001b[0m \u001b[1m1s\u001b[0m 752us/step - loss: 273055.9062 - mae: 280.2351 - mse: 273055.9062 - val_loss: 306503.0938 - val_mae: 285.0883 - val_mse: 306503.0938\n",
      "Epoch 120/300\n",
      "\u001b[1m683/683\u001b[0m \u001b[32m━━━━━━━━━━━━━━━━━━━━\u001b[0m\u001b[37m\u001b[0m \u001b[1m1s\u001b[0m 760us/step - loss: 246125.9219 - mae: 268.9497 - mse: 246125.9219 - val_loss: 312508.3750 - val_mae: 290.1406 - val_mse: 312508.3750\n",
      "Epoch 121/300\n",
      "\u001b[1m683/683\u001b[0m \u001b[32m━━━━━━━━━━━━━━━━━━━━\u001b[0m\u001b[37m\u001b[0m \u001b[1m1s\u001b[0m 761us/step - loss: 257994.0312 - mae: 273.6684 - mse: 257994.0312 - val_loss: 315192.8125 - val_mae: 298.5820 - val_mse: 315192.8125\n",
      "Epoch 122/300\n",
      "\u001b[1m683/683\u001b[0m \u001b[32m━━━━━━━━━━━━━━━━━━━━\u001b[0m\u001b[37m\u001b[0m \u001b[1m1s\u001b[0m 778us/step - loss: 254782.1406 - mae: 273.3268 - mse: 254782.1406 - val_loss: 374761.3750 - val_mae: 332.8160 - val_mse: 374761.3750\n",
      "Epoch 123/300\n",
      "\u001b[1m683/683\u001b[0m \u001b[32m━━━━━━━━━━━━━━━━━━━━\u001b[0m\u001b[37m\u001b[0m \u001b[1m1s\u001b[0m 776us/step - loss: 268846.2500 - mae: 278.2349 - mse: 268846.2500 - val_loss: 309348.9375 - val_mae: 291.7423 - val_mse: 309348.9375\n",
      "Epoch 124/300\n",
      "\u001b[1m683/683\u001b[0m \u001b[32m━━━━━━━━━━━━━━━━━━━━\u001b[0m\u001b[37m\u001b[0m \u001b[1m1s\u001b[0m 755us/step - loss: 265009.3438 - mae: 277.9536 - mse: 265009.3438 - val_loss: 309037.5000 - val_mae: 294.0859 - val_mse: 309037.5000\n",
      "Epoch 125/300\n",
      "\u001b[1m683/683\u001b[0m \u001b[32m━━━━━━━━━━━━━━━━━━━━\u001b[0m\u001b[37m\u001b[0m \u001b[1m1s\u001b[0m 784us/step - loss: 256368.3438 - mae: 272.7244 - mse: 256368.3438 - val_loss: 306803.2500 - val_mae: 286.5865 - val_mse: 306803.2500\n",
      "Epoch 126/300\n",
      "\u001b[1m683/683\u001b[0m \u001b[32m━━━━━━━━━━━━━━━━━━━━\u001b[0m\u001b[37m\u001b[0m \u001b[1m1s\u001b[0m 756us/step - loss: 262468.8125 - mae: 271.8455 - mse: 262468.8125 - val_loss: 365135.5000 - val_mae: 308.9131 - val_mse: 365135.5000\n",
      "Epoch 127/300\n",
      "\u001b[1m683/683\u001b[0m \u001b[32m━━━━━━━━━━━━━━━━━━━━\u001b[0m\u001b[37m\u001b[0m \u001b[1m1s\u001b[0m 768us/step - loss: 259125.7656 - mae: 277.8417 - mse: 259125.7656 - val_loss: 316537.6875 - val_mae: 287.9081 - val_mse: 316537.6875\n",
      "Epoch 128/300\n",
      "\u001b[1m683/683\u001b[0m \u001b[32m━━━━━━━━━━━━━━━━━━━━\u001b[0m\u001b[37m\u001b[0m \u001b[1m1s\u001b[0m 762us/step - loss: 250308.6406 - mae: 269.4796 - mse: 250308.6406 - val_loss: 303991.2500 - val_mae: 288.1610 - val_mse: 303991.2500\n",
      "Epoch 129/300\n",
      "\u001b[1m683/683\u001b[0m \u001b[32m━━━━━━━━━━━━━━━━━━━━\u001b[0m\u001b[37m\u001b[0m \u001b[1m1s\u001b[0m 766us/step - loss: 264385.8750 - mae: 276.4644 - mse: 264385.8750 - val_loss: 305837.0312 - val_mae: 287.1696 - val_mse: 305837.0312\n",
      "Epoch 130/300\n",
      "\u001b[1m683/683\u001b[0m \u001b[32m━━━━━━━━━━━━━━━━━━━━\u001b[0m\u001b[37m\u001b[0m \u001b[1m1s\u001b[0m 759us/step - loss: 258100.4688 - mae: 273.6365 - mse: 258100.4688 - val_loss: 303986.1562 - val_mae: 288.4458 - val_mse: 303986.1562\n",
      "Epoch 131/300\n",
      "\u001b[1m683/683\u001b[0m \u001b[32m━━━━━━━━━━━━━━━━━━━━\u001b[0m\u001b[37m\u001b[0m \u001b[1m1s\u001b[0m 765us/step - loss: 247535.7344 - mae: 268.4379 - mse: 247535.7344 - val_loss: 311545.1875 - val_mae: 287.9475 - val_mse: 311545.1875\n",
      "Epoch 132/300\n",
      "\u001b[1m683/683\u001b[0m \u001b[32m━━━━━━━━━━━━━━━━━━━━\u001b[0m\u001b[37m\u001b[0m \u001b[1m1s\u001b[0m 752us/step - loss: 260998.5625 - mae: 273.6387 - mse: 260998.5625 - val_loss: 330241.6250 - val_mae: 307.8987 - val_mse: 330241.6250\n",
      "Epoch 133/300\n",
      "\u001b[1m683/683\u001b[0m \u001b[32m━━━━━━━━━━━━━━━━━━━━\u001b[0m\u001b[37m\u001b[0m \u001b[1m1s\u001b[0m 771us/step - loss: 247220.6875 - mae: 268.9305 - mse: 247220.6875 - val_loss: 312502.9375 - val_mae: 294.8243 - val_mse: 312502.9375\n",
      "Epoch 134/300\n",
      "\u001b[1m683/683\u001b[0m \u001b[32m━━━━━━━━━━━━━━━━━━━━\u001b[0m\u001b[37m\u001b[0m \u001b[1m1s\u001b[0m 767us/step - loss: 251428.9531 - mae: 272.8739 - mse: 251428.9531 - val_loss: 300998.2500 - val_mae: 292.5186 - val_mse: 300998.2500\n",
      "Epoch 135/300\n",
      "\u001b[1m683/683\u001b[0m \u001b[32m━━━━━━━━━━━━━━━━━━━━\u001b[0m\u001b[37m\u001b[0m \u001b[1m1s\u001b[0m 742us/step - loss: 246011.6562 - mae: 268.6980 - mse: 246011.6562 - val_loss: 308072.9375 - val_mae: 288.6429 - val_mse: 308072.9375\n",
      "Epoch 136/300\n",
      "\u001b[1m683/683\u001b[0m \u001b[32m━━━━━━━━━━━━━━━━━━━━\u001b[0m\u001b[37m\u001b[0m \u001b[1m1s\u001b[0m 764us/step - loss: 253610.5625 - mae: 271.9962 - mse: 253610.5625 - val_loss: 307353.6562 - val_mae: 287.3810 - val_mse: 307353.6562\n",
      "Epoch 137/300\n",
      "\u001b[1m683/683\u001b[0m \u001b[32m━━━━━━━━━━━━━━━━━━━━\u001b[0m\u001b[37m\u001b[0m \u001b[1m1s\u001b[0m 782us/step - loss: 251721.3125 - mae: 268.8609 - mse: 251721.3125 - val_loss: 336778.2188 - val_mae: 313.1794 - val_mse: 336778.2188\n",
      "Epoch 138/300\n",
      "\u001b[1m683/683\u001b[0m \u001b[32m━━━━━━━━━━━━━━━━━━━━\u001b[0m\u001b[37m\u001b[0m \u001b[1m1s\u001b[0m 756us/step - loss: 262553.9062 - mae: 276.9739 - mse: 262553.9062 - val_loss: 304525.5938 - val_mae: 288.6267 - val_mse: 304525.5938\n",
      "Epoch 139/300\n",
      "\u001b[1m683/683\u001b[0m \u001b[32m━━━━━━━━━━━━━━━━━━━━\u001b[0m\u001b[37m\u001b[0m \u001b[1m1s\u001b[0m 767us/step - loss: 244014.7812 - mae: 264.2804 - mse: 244014.7812 - val_loss: 349308.9375 - val_mae: 322.9795 - val_mse: 349308.9375\n",
      "Epoch 140/300\n",
      "\u001b[1m683/683\u001b[0m \u001b[32m━━━━━━━━━━━━━━━━━━━━\u001b[0m\u001b[37m\u001b[0m \u001b[1m1s\u001b[0m 770us/step - loss: 254946.3594 - mae: 273.9239 - mse: 254946.3594 - val_loss: 315540.9375 - val_mae: 286.4152 - val_mse: 315540.9375\n",
      "Epoch 141/300\n",
      "\u001b[1m683/683\u001b[0m \u001b[32m━━━━━━━━━━━━━━━━━━━━\u001b[0m\u001b[37m\u001b[0m \u001b[1m1s\u001b[0m 760us/step - loss: 256933.4375 - mae: 273.0557 - mse: 256933.4375 - val_loss: 309769.0938 - val_mae: 295.9442 - val_mse: 309769.0938\n",
      "Epoch 142/300\n",
      "\u001b[1m683/683\u001b[0m \u001b[32m━━━━━━━━━━━━━━━━━━━━\u001b[0m\u001b[37m\u001b[0m \u001b[1m1s\u001b[0m 773us/step - loss: 246412.0625 - mae: 266.7940 - mse: 246412.0625 - val_loss: 305618.5938 - val_mae: 287.1015 - val_mse: 305618.5938\n",
      "Epoch 143/300\n",
      "\u001b[1m683/683\u001b[0m \u001b[32m━━━━━━━━━━━━━━━━━━━━\u001b[0m\u001b[37m\u001b[0m \u001b[1m1s\u001b[0m 765us/step - loss: 248367.5156 - mae: 268.3432 - mse: 248367.5156 - val_loss: 309285.5000 - val_mae: 286.5938 - val_mse: 309285.5000\n",
      "Epoch 144/300\n",
      "\u001b[1m683/683\u001b[0m \u001b[32m━━━━━━━━━━━━━━━━━━━━\u001b[0m\u001b[37m\u001b[0m \u001b[1m1s\u001b[0m 751us/step - loss: 251109.7656 - mae: 270.7160 - mse: 251109.7656 - val_loss: 300889.2812 - val_mae: 281.9185 - val_mse: 300889.2812\n",
      "Epoch 145/300\n",
      "\u001b[1m683/683\u001b[0m \u001b[32m━━━━━━━━━━━━━━━━━━━━\u001b[0m\u001b[37m\u001b[0m \u001b[1m1s\u001b[0m 776us/step - loss: 254600.6719 - mae: 272.2615 - mse: 254600.6719 - val_loss: 310663.5000 - val_mae: 287.6484 - val_mse: 310663.5000\n",
      "Epoch 146/300\n",
      "\u001b[1m683/683\u001b[0m \u001b[32m━━━━━━━━━━━━━━━━━━━━\u001b[0m\u001b[37m\u001b[0m \u001b[1m1s\u001b[0m 776us/step - loss: 239119.7969 - mae: 262.9733 - mse: 239119.7969 - val_loss: 310191.5312 - val_mae: 292.9256 - val_mse: 310191.5312\n",
      "Epoch 147/300\n",
      "\u001b[1m683/683\u001b[0m \u001b[32m━━━━━━━━━━━━━━━━━━━━\u001b[0m\u001b[37m\u001b[0m \u001b[1m1s\u001b[0m 743us/step - loss: 259055.3594 - mae: 273.2794 - mse: 259055.3594 - val_loss: 309456.7812 - val_mae: 290.8239 - val_mse: 309456.7812\n",
      "Epoch 148/300\n",
      "\u001b[1m683/683\u001b[0m \u001b[32m━━━━━━━━━━━━━━━━━━━━\u001b[0m\u001b[37m\u001b[0m \u001b[1m1s\u001b[0m 770us/step - loss: 253434.4375 - mae: 271.8906 - mse: 253434.4375 - val_loss: 306797.8438 - val_mae: 285.7619 - val_mse: 306797.8438\n",
      "Epoch 149/300\n",
      "\u001b[1m683/683\u001b[0m \u001b[32m━━━━━━━━━━━━━━━━━━━━\u001b[0m\u001b[37m\u001b[0m \u001b[1m1s\u001b[0m 773us/step - loss: 241347.7188 - mae: 266.5536 - mse: 241347.7188 - val_loss: 305923.0312 - val_mae: 292.0645 - val_mse: 305923.0312\n",
      "Epoch 150/300\n",
      "\u001b[1m683/683\u001b[0m \u001b[32m━━━━━━━━━━━━━━━━━━━━\u001b[0m\u001b[37m\u001b[0m \u001b[1m1s\u001b[0m 751us/step - loss: 259540.0625 - mae: 275.1297 - mse: 259540.0625 - val_loss: 314556.4688 - val_mae: 304.8249 - val_mse: 314556.4688\n",
      "Epoch 151/300\n",
      "\u001b[1m683/683\u001b[0m \u001b[32m━━━━━━━━━━━━━━━━━━━━\u001b[0m\u001b[37m\u001b[0m \u001b[1m1s\u001b[0m 758us/step - loss: 249129.9844 - mae: 270.2482 - mse: 249129.9844 - val_loss: 411254.3125 - val_mae: 365.5580 - val_mse: 411254.3125\n",
      "Epoch 152/300\n",
      "\u001b[1m683/683\u001b[0m \u001b[32m━━━━━━━━━━━━━━━━━━━━\u001b[0m\u001b[37m\u001b[0m \u001b[1m1s\u001b[0m 763us/step - loss: 256599.2344 - mae: 271.3015 - mse: 256599.2344 - val_loss: 302632.4062 - val_mae: 284.7915 - val_mse: 302632.4062\n",
      "Epoch 153/300\n",
      "\u001b[1m683/683\u001b[0m \u001b[32m━━━━━━━━━━━━━━━━━━━━\u001b[0m\u001b[37m\u001b[0m \u001b[1m1s\u001b[0m 775us/step - loss: 244843.4844 - mae: 268.2216 - mse: 244843.4844 - val_loss: 300582.1875 - val_mae: 284.3475 - val_mse: 300582.1875\n",
      "Epoch 154/300\n",
      "\u001b[1m683/683\u001b[0m \u001b[32m━━━━━━━━━━━━━━━━━━━━\u001b[0m\u001b[37m\u001b[0m \u001b[1m1s\u001b[0m 751us/step - loss: 240023.8125 - mae: 265.0221 - mse: 240023.8125 - val_loss: 307758.2812 - val_mae: 286.6287 - val_mse: 307758.2812\n",
      "Epoch 155/300\n",
      "\u001b[1m683/683\u001b[0m \u001b[32m━━━━━━━━━━━━━━━━━━━━\u001b[0m\u001b[37m\u001b[0m \u001b[1m1s\u001b[0m 771us/step - loss: 253268.8438 - mae: 271.0814 - mse: 253268.8438 - val_loss: 350276.4688 - val_mae: 310.7384 - val_mse: 350276.4688\n",
      "Epoch 156/300\n",
      "\u001b[1m683/683\u001b[0m \u001b[32m━━━━━━━━━━━━━━━━━━━━\u001b[0m\u001b[37m\u001b[0m \u001b[1m1s\u001b[0m 774us/step - loss: 249653.3906 - mae: 270.6108 - mse: 249653.3906 - val_loss: 324912.5625 - val_mae: 306.7946 - val_mse: 324912.5625\n",
      "Epoch 157/300\n",
      "\u001b[1m683/683\u001b[0m \u001b[32m━━━━━━━━━━━━━━━━━━━━\u001b[0m\u001b[37m\u001b[0m \u001b[1m1s\u001b[0m 785us/step - loss: 250894.5781 - mae: 270.4296 - mse: 250894.5781 - val_loss: 325536.4062 - val_mae: 295.4852 - val_mse: 325536.4062\n",
      "Epoch 158/300\n",
      "\u001b[1m683/683\u001b[0m \u001b[32m━━━━━━━━━━━━━━━━━━━━\u001b[0m\u001b[37m\u001b[0m \u001b[1m1s\u001b[0m 755us/step - loss: 255089.2656 - mae: 269.5086 - mse: 255089.2656 - val_loss: 297983.3438 - val_mae: 291.9085 - val_mse: 297983.3438\n",
      "Epoch 159/300\n",
      "\u001b[1m683/683\u001b[0m \u001b[32m━━━━━━━━━━━━━━━━━━━━\u001b[0m\u001b[37m\u001b[0m \u001b[1m1s\u001b[0m 769us/step - loss: 240056.9375 - mae: 265.8862 - mse: 240056.9375 - val_loss: 302617.2812 - val_mae: 287.9502 - val_mse: 302617.2812\n",
      "Epoch 160/300\n",
      "\u001b[1m683/683\u001b[0m \u001b[32m━━━━━━━━━━━━━━━━━━━━\u001b[0m\u001b[37m\u001b[0m \u001b[1m1s\u001b[0m 764us/step - loss: 238110.0469 - mae: 262.1400 - mse: 238110.0469 - val_loss: 322830.5625 - val_mae: 288.8740 - val_mse: 322830.5625\n",
      "Epoch 161/300\n",
      "\u001b[1m683/683\u001b[0m \u001b[32m━━━━━━━━━━━━━━━━━━━━\u001b[0m\u001b[37m\u001b[0m \u001b[1m1s\u001b[0m 774us/step - loss: 252849.5156 - mae: 269.7122 - mse: 252849.5156 - val_loss: 313681.2500 - val_mae: 287.9534 - val_mse: 313681.2500\n",
      "Epoch 162/300\n",
      "\u001b[1m683/683\u001b[0m \u001b[32m━━━━━━━━━━━━━━━━━━━━\u001b[0m\u001b[37m\u001b[0m \u001b[1m1s\u001b[0m 745us/step - loss: 247047.2500 - mae: 268.6100 - mse: 247047.2500 - val_loss: 303888.2188 - val_mae: 283.7785 - val_mse: 303888.2188\n",
      "Epoch 163/300\n",
      "\u001b[1m683/683\u001b[0m \u001b[32m━━━━━━━━━━━━━━━━━━━━\u001b[0m\u001b[37m\u001b[0m \u001b[1m1s\u001b[0m 768us/step - loss: 248520.2031 - mae: 268.3210 - mse: 248520.2031 - val_loss: 310843.1875 - val_mae: 286.0248 - val_mse: 310843.1875\n",
      "Epoch 164/300\n",
      "\u001b[1m683/683\u001b[0m \u001b[32m━━━━━━━━━━━━━━━━━━━━\u001b[0m\u001b[37m\u001b[0m \u001b[1m1s\u001b[0m 771us/step - loss: 260604.1406 - mae: 273.8457 - mse: 260604.1406 - val_loss: 306159.7500 - val_mae: 292.1940 - val_mse: 306159.7500\n",
      "Epoch 165/300\n",
      "\u001b[1m683/683\u001b[0m \u001b[32m━━━━━━━━━━━━━━━━━━━━\u001b[0m\u001b[37m\u001b[0m \u001b[1m1s\u001b[0m 774us/step - loss: 244454.7500 - mae: 269.9131 - mse: 244454.7500 - val_loss: 298885.7188 - val_mae: 291.0043 - val_mse: 298885.7188\n",
      "Epoch 166/300\n",
      "\u001b[1m683/683\u001b[0m \u001b[32m━━━━━━━━━━━━━━━━━━━━\u001b[0m\u001b[37m\u001b[0m \u001b[1m1s\u001b[0m 761us/step - loss: 239308.6406 - mae: 265.9580 - mse: 239308.6406 - val_loss: 366243.7812 - val_mae: 321.9124 - val_mse: 366243.7812\n",
      "Epoch 167/300\n",
      "\u001b[1m683/683\u001b[0m \u001b[32m━━━━━━━━━━━━━━━━━━━━\u001b[0m\u001b[37m\u001b[0m \u001b[1m1s\u001b[0m 753us/step - loss: 240259.4844 - mae: 266.6253 - mse: 240259.4844 - val_loss: 306844.8438 - val_mae: 287.5014 - val_mse: 306844.8438\n",
      "Epoch 168/300\n",
      "\u001b[1m683/683\u001b[0m \u001b[32m━━━━━━━━━━━━━━━━━━━━\u001b[0m\u001b[37m\u001b[0m \u001b[1m1s\u001b[0m 767us/step - loss: 245288.2969 - mae: 269.4208 - mse: 245288.2969 - val_loss: 305327.7188 - val_mae: 291.6016 - val_mse: 305327.7188\n",
      "Epoch 169/300\n",
      "\u001b[1m683/683\u001b[0m \u001b[32m━━━━━━━━━━━━━━━━━━━━\u001b[0m\u001b[37m\u001b[0m \u001b[1m1s\u001b[0m 770us/step - loss: 239697.0312 - mae: 264.7257 - mse: 239697.0312 - val_loss: 319663.4062 - val_mae: 288.5562 - val_mse: 319663.4062\n",
      "Epoch 170/300\n",
      "\u001b[1m683/683\u001b[0m \u001b[32m━━━━━━━━━━━━━━━━━━━━\u001b[0m\u001b[37m\u001b[0m \u001b[1m1s\u001b[0m 776us/step - loss: 241707.2812 - mae: 267.4586 - mse: 241707.2812 - val_loss: 314906.2500 - val_mae: 298.3681 - val_mse: 314906.2500\n",
      "Epoch 171/300\n",
      "\u001b[1m683/683\u001b[0m \u001b[32m━━━━━━━━━━━━━━━━━━━━\u001b[0m\u001b[37m\u001b[0m \u001b[1m1s\u001b[0m 777us/step - loss: 249836.8906 - mae: 268.6034 - mse: 249836.8906 - val_loss: 320941.4688 - val_mae: 304.6873 - val_mse: 320941.4688\n",
      "Epoch 172/300\n",
      "\u001b[1m683/683\u001b[0m \u001b[32m━━━━━━━━━━━━━━━━━━━━\u001b[0m\u001b[37m\u001b[0m \u001b[1m1s\u001b[0m 780us/step - loss: 244098.6094 - mae: 265.8779 - mse: 244098.6094 - val_loss: 305224.6562 - val_mae: 292.3885 - val_mse: 305224.6562\n",
      "Epoch 173/300\n",
      "\u001b[1m683/683\u001b[0m \u001b[32m━━━━━━━━━━━━━━━━━━━━\u001b[0m\u001b[37m\u001b[0m \u001b[1m1s\u001b[0m 757us/step - loss: 251403.3281 - mae: 270.0211 - mse: 251403.3281 - val_loss: 308995.2812 - val_mae: 293.1092 - val_mse: 308995.2812\n",
      "Epoch 174/300\n",
      "\u001b[1m683/683\u001b[0m \u001b[32m━━━━━━━━━━━━━━━━━━━━\u001b[0m\u001b[37m\u001b[0m \u001b[1m1s\u001b[0m 759us/step - loss: 250224.9062 - mae: 270.7784 - mse: 250224.9062 - val_loss: 297392.8750 - val_mae: 284.0883 - val_mse: 297392.8750\n",
      "Epoch 175/300\n",
      "\u001b[1m683/683\u001b[0m \u001b[32m━━━━━━━━━━━━━━━━━━━━\u001b[0m\u001b[37m\u001b[0m \u001b[1m1s\u001b[0m 765us/step - loss: 242526.5156 - mae: 267.5813 - mse: 242526.5156 - val_loss: 309180.1250 - val_mae: 285.2115 - val_mse: 309180.1250\n",
      "Epoch 176/300\n",
      "\u001b[1m683/683\u001b[0m \u001b[32m━━━━━━━━━━━━━━━━━━━━\u001b[0m\u001b[37m\u001b[0m \u001b[1m1s\u001b[0m 782us/step - loss: 238930.5625 - mae: 264.9636 - mse: 238930.5625 - val_loss: 308381.8125 - val_mae: 289.2308 - val_mse: 308381.8125\n",
      "Epoch 177/300\n",
      "\u001b[1m683/683\u001b[0m \u001b[32m━━━━━━━━━━━━━━━━━━━━\u001b[0m\u001b[37m\u001b[0m \u001b[1m1s\u001b[0m 775us/step - loss: 242769.0156 - mae: 266.6147 - mse: 242769.0156 - val_loss: 335213.8750 - val_mae: 317.8114 - val_mse: 335213.8750\n",
      "Epoch 178/300\n",
      "\u001b[1m683/683\u001b[0m \u001b[32m━━━━━━━━━━━━━━━━━━━━\u001b[0m\u001b[37m\u001b[0m \u001b[1m1s\u001b[0m 773us/step - loss: 247253.9375 - mae: 266.7755 - mse: 247253.9375 - val_loss: 311120.3125 - val_mae: 286.3837 - val_mse: 311120.3125\n",
      "Epoch 179/300\n",
      "\u001b[1m683/683\u001b[0m \u001b[32m━━━━━━━━━━━━━━━━━━━━\u001b[0m\u001b[37m\u001b[0m \u001b[1m1s\u001b[0m 774us/step - loss: 246229.2969 - mae: 266.0326 - mse: 246229.2969 - val_loss: 310416.9062 - val_mae: 285.3599 - val_mse: 310416.9062\n",
      "Epoch 180/300\n",
      "\u001b[1m683/683\u001b[0m \u001b[32m━━━━━━━━━━━━━━━━━━━━\u001b[0m\u001b[37m\u001b[0m \u001b[1m1s\u001b[0m 778us/step - loss: 248731.0156 - mae: 268.8499 - mse: 248731.0156 - val_loss: 313717.4375 - val_mae: 292.9204 - val_mse: 313717.4375\n",
      "Epoch 181/300\n",
      "\u001b[1m683/683\u001b[0m \u001b[32m━━━━━━━━━━━━━━━━━━━━\u001b[0m\u001b[37m\u001b[0m \u001b[1m1s\u001b[0m 760us/step - loss: 247001.2031 - mae: 267.8304 - mse: 247001.2031 - val_loss: 314110.8438 - val_mae: 291.4467 - val_mse: 314110.8438\n",
      "Epoch 182/300\n",
      "\u001b[1m683/683\u001b[0m \u001b[32m━━━━━━━━━━━━━━━━━━━━\u001b[0m\u001b[37m\u001b[0m \u001b[1m1s\u001b[0m 770us/step - loss: 245652.4375 - mae: 271.8959 - mse: 245652.4375 - val_loss: 324635.5938 - val_mae: 307.8476 - val_mse: 324635.5938\n",
      "Epoch 183/300\n",
      "\u001b[1m683/683\u001b[0m \u001b[32m━━━━━━━━━━━━━━━━━━━━\u001b[0m\u001b[37m\u001b[0m \u001b[1m1s\u001b[0m 770us/step - loss: 237066.5469 - mae: 265.1607 - mse: 237066.5469 - val_loss: 308666.1875 - val_mae: 292.3207 - val_mse: 308666.1875\n",
      "Epoch 184/300\n",
      "\u001b[1m683/683\u001b[0m \u001b[32m━━━━━━━━━━━━━━━━━━━━\u001b[0m\u001b[37m\u001b[0m \u001b[1m1s\u001b[0m 779us/step - loss: 233679.1406 - mae: 263.3185 - mse: 233679.1406 - val_loss: 306543.0312 - val_mae: 292.0393 - val_mse: 306543.0312\n",
      "Epoch 185/300\n",
      "\u001b[1m683/683\u001b[0m \u001b[32m━━━━━━━━━━━━━━━━━━━━\u001b[0m\u001b[37m\u001b[0m \u001b[1m1s\u001b[0m 771us/step - loss: 240604.9219 - mae: 265.5122 - mse: 240604.9219 - val_loss: 321026.4062 - val_mae: 290.8092 - val_mse: 321026.4062\n",
      "Epoch 186/300\n",
      "\u001b[1m683/683\u001b[0m \u001b[32m━━━━━━━━━━━━━━━━━━━━\u001b[0m\u001b[37m\u001b[0m \u001b[1m1s\u001b[0m 771us/step - loss: 240338.9219 - mae: 263.9601 - mse: 240338.9219 - val_loss: 305648.2500 - val_mae: 288.7298 - val_mse: 305648.2500\n",
      "Epoch 187/300\n",
      "\u001b[1m683/683\u001b[0m \u001b[32m━━━━━━━━━━━━━━━━━━━━\u001b[0m\u001b[37m\u001b[0m \u001b[1m1s\u001b[0m 771us/step - loss: 239279.4844 - mae: 265.9711 - mse: 239279.4844 - val_loss: 311620.5000 - val_mae: 296.5517 - val_mse: 311620.5000\n",
      "Epoch 188/300\n",
      "\u001b[1m683/683\u001b[0m \u001b[32m━━━━━━━━━━━━━━━━━━━━\u001b[0m\u001b[37m\u001b[0m \u001b[1m1s\u001b[0m 778us/step - loss: 248159.1250 - mae: 270.5557 - mse: 248159.1250 - val_loss: 308119.2188 - val_mae: 293.9399 - val_mse: 308119.2188\n",
      "Epoch 189/300\n",
      "\u001b[1m683/683\u001b[0m \u001b[32m━━━━━━━━━━━━━━━━━━━━\u001b[0m\u001b[37m\u001b[0m \u001b[1m1s\u001b[0m 774us/step - loss: 240029.4844 - mae: 265.1626 - mse: 240029.4844 - val_loss: 312907.5625 - val_mae: 293.7128 - val_mse: 312907.5625\n",
      "Epoch 190/300\n",
      "\u001b[1m683/683\u001b[0m \u001b[32m━━━━━━━━━━━━━━━━━━━━\u001b[0m\u001b[37m\u001b[0m \u001b[1m1s\u001b[0m 755us/step - loss: 244542.9844 - mae: 269.5080 - mse: 244542.9844 - val_loss: 316985.7500 - val_mae: 290.8864 - val_mse: 316985.7500\n",
      "Epoch 191/300\n",
      "\u001b[1m683/683\u001b[0m \u001b[32m━━━━━━━━━━━━━━━━━━━━\u001b[0m\u001b[37m\u001b[0m \u001b[1m1s\u001b[0m 770us/step - loss: 235652.0938 - mae: 263.1233 - mse: 235652.0938 - val_loss: 313053.9062 - val_mae: 287.8232 - val_mse: 313053.9062\n",
      "Epoch 192/300\n",
      "\u001b[1m683/683\u001b[0m \u001b[32m━━━━━━━━━━━━━━━━━━━━\u001b[0m\u001b[37m\u001b[0m \u001b[1m1s\u001b[0m 783us/step - loss: 232063.3281 - mae: 263.0157 - mse: 232063.3281 - val_loss: 298322.0312 - val_mae: 291.4815 - val_mse: 298322.0312\n",
      "Epoch 193/300\n",
      "\u001b[1m683/683\u001b[0m \u001b[32m━━━━━━━━━━━━━━━━━━━━\u001b[0m\u001b[37m\u001b[0m \u001b[1m1s\u001b[0m 772us/step - loss: 234710.3125 - mae: 260.8605 - mse: 234710.3125 - val_loss: 301622.7188 - val_mae: 288.5161 - val_mse: 301622.7188\n",
      "Epoch 194/300\n",
      "\u001b[1m683/683\u001b[0m \u001b[32m━━━━━━━━━━━━━━━━━━━━\u001b[0m\u001b[37m\u001b[0m \u001b[1m1s\u001b[0m 771us/step - loss: 226811.9688 - mae: 258.1882 - mse: 226811.9688 - val_loss: 313572.0000 - val_mae: 291.3171 - val_mse: 313572.0000\n",
      "Epoch 195/300\n",
      "\u001b[1m683/683\u001b[0m \u001b[32m━━━━━━━━━━━━━━━━━━━━\u001b[0m\u001b[37m\u001b[0m \u001b[1m1s\u001b[0m 774us/step - loss: 237160.3750 - mae: 266.6745 - mse: 237160.3750 - val_loss: 355817.7812 - val_mae: 326.2431 - val_mse: 355817.7812\n",
      "Epoch 196/300\n",
      "\u001b[1m683/683\u001b[0m \u001b[32m━━━━━━━━━━━━━━━━━━━━\u001b[0m\u001b[37m\u001b[0m \u001b[1m1s\u001b[0m 776us/step - loss: 240915.7344 - mae: 266.3589 - mse: 240915.7344 - val_loss: 314283.5312 - val_mae: 293.6604 - val_mse: 314283.5312\n",
      "Epoch 197/300\n",
      "\u001b[1m683/683\u001b[0m \u001b[32m━━━━━━━━━━━━━━━━━━━━\u001b[0m\u001b[37m\u001b[0m \u001b[1m1s\u001b[0m 775us/step - loss: 241352.9219 - mae: 264.3718 - mse: 241352.9219 - val_loss: 309253.7500 - val_mae: 296.0083 - val_mse: 309253.7500\n",
      "Epoch 198/300\n",
      "\u001b[1m683/683\u001b[0m \u001b[32m━━━━━━━━━━━━━━━━━━━━\u001b[0m\u001b[37m\u001b[0m \u001b[1m1s\u001b[0m 771us/step - loss: 230254.7188 - mae: 259.3933 - mse: 230254.7188 - val_loss: 337590.7188 - val_mae: 309.7959 - val_mse: 337590.7188\n",
      "Epoch 199/300\n",
      "\u001b[1m683/683\u001b[0m \u001b[32m━━━━━━━━━━━━━━━━━━━━\u001b[0m\u001b[37m\u001b[0m \u001b[1m1s\u001b[0m 769us/step - loss: 241565.7031 - mae: 267.9182 - mse: 241565.7031 - val_loss: 308569.4688 - val_mae: 285.3534 - val_mse: 308569.4688\n",
      "Epoch 200/300\n",
      "\u001b[1m683/683\u001b[0m \u001b[32m━━━━━━━━━━━━━━━━━━━━\u001b[0m\u001b[37m\u001b[0m \u001b[1m1s\u001b[0m 779us/step - loss: 226265.4062 - mae: 257.9349 - mse: 226265.4062 - val_loss: 325244.1875 - val_mae: 285.3159 - val_mse: 325244.1875\n",
      "Epoch 201/300\n",
      "\u001b[1m683/683\u001b[0m \u001b[32m━━━━━━━━━━━━━━━━━━━━\u001b[0m\u001b[37m\u001b[0m \u001b[1m1s\u001b[0m 770us/step - loss: 243298.5781 - mae: 265.2807 - mse: 243298.5781 - val_loss: 302619.5625 - val_mae: 294.6183 - val_mse: 302619.5625\n",
      "Epoch 202/300\n",
      "\u001b[1m683/683\u001b[0m \u001b[32m━━━━━━━━━━━━━━━━━━━━\u001b[0m\u001b[37m\u001b[0m \u001b[1m1s\u001b[0m 767us/step - loss: 229383.4219 - mae: 262.3916 - mse: 229383.4219 - val_loss: 304244.7500 - val_mae: 285.8841 - val_mse: 304244.7500\n",
      "Epoch 203/300\n",
      "\u001b[1m683/683\u001b[0m \u001b[32m━━━━━━━━━━━━━━━━━━━━\u001b[0m\u001b[37m\u001b[0m \u001b[1m1s\u001b[0m 778us/step - loss: 227547.4062 - mae: 258.4667 - mse: 227547.4062 - val_loss: 308872.1875 - val_mae: 287.7869 - val_mse: 308872.1875\n",
      "Epoch 204/300\n",
      "\u001b[1m683/683\u001b[0m \u001b[32m━━━━━━━━━━━━━━━━━━━━\u001b[0m\u001b[37m\u001b[0m \u001b[1m1s\u001b[0m 767us/step - loss: 237585.2969 - mae: 263.6275 - mse: 237585.2969 - val_loss: 330514.0938 - val_mae: 299.8107 - val_mse: 330514.0938\n",
      "Epoch 205/300\n",
      "\u001b[1m683/683\u001b[0m \u001b[32m━━━━━━━━━━━━━━━━━━━━\u001b[0m\u001b[37m\u001b[0m \u001b[1m1s\u001b[0m 768us/step - loss: 235843.1406 - mae: 262.1022 - mse: 235843.1406 - val_loss: 310613.3750 - val_mae: 286.4300 - val_mse: 310613.3750\n",
      "Epoch 206/300\n",
      "\u001b[1m683/683\u001b[0m \u001b[32m━━━━━━━━━━━━━━━━━━━━\u001b[0m\u001b[37m\u001b[0m \u001b[1m1s\u001b[0m 773us/step - loss: 232325.4375 - mae: 261.2241 - mse: 232325.4375 - val_loss: 299711.0625 - val_mae: 287.4988 - val_mse: 299711.0625\n",
      "Epoch 207/300\n",
      "\u001b[1m683/683\u001b[0m \u001b[32m━━━━━━━━━━━━━━━━━━━━\u001b[0m\u001b[37m\u001b[0m \u001b[1m1s\u001b[0m 785us/step - loss: 242752.2812 - mae: 266.6437 - mse: 242752.2812 - val_loss: 304894.4062 - val_mae: 290.4948 - val_mse: 304894.4062\n",
      "Epoch 208/300\n",
      "\u001b[1m683/683\u001b[0m \u001b[32m━━━━━━━━━━━━━━━━━━━━\u001b[0m\u001b[37m\u001b[0m \u001b[1m1s\u001b[0m 771us/step - loss: 241545.9219 - mae: 261.5781 - mse: 241545.9219 - val_loss: 300766.0000 - val_mae: 285.2931 - val_mse: 300766.0000\n",
      "Epoch 209/300\n",
      "\u001b[1m683/683\u001b[0m \u001b[32m━━━━━━━━━━━━━━━━━━━━\u001b[0m\u001b[37m\u001b[0m \u001b[1m1s\u001b[0m 773us/step - loss: 234866.6250 - mae: 263.3297 - mse: 234866.6250 - val_loss: 307047.8125 - val_mae: 286.8680 - val_mse: 307047.8125\n",
      "Epoch 210/300\n",
      "\u001b[1m683/683\u001b[0m \u001b[32m━━━━━━━━━━━━━━━━━━━━\u001b[0m\u001b[37m\u001b[0m \u001b[1m1s\u001b[0m 770us/step - loss: 242247.9375 - mae: 267.8219 - mse: 242247.9375 - val_loss: 303405.9375 - val_mae: 289.8022 - val_mse: 303405.9375\n",
      "Epoch 211/300\n",
      "\u001b[1m683/683\u001b[0m \u001b[32m━━━━━━━━━━━━━━━━━━━━\u001b[0m\u001b[37m\u001b[0m \u001b[1m1s\u001b[0m 789us/step - loss: 229516.4844 - mae: 259.6906 - mse: 229516.4844 - val_loss: 302515.1875 - val_mae: 290.2439 - val_mse: 302515.1875\n",
      "Epoch 212/300\n",
      "\u001b[1m683/683\u001b[0m \u001b[32m━━━━━━━━━━━━━━━━━━━━\u001b[0m\u001b[37m\u001b[0m \u001b[1m1s\u001b[0m 768us/step - loss: 230820.5156 - mae: 261.2575 - mse: 230820.5156 - val_loss: 337842.7812 - val_mae: 311.5108 - val_mse: 337842.7812\n",
      "Epoch 213/300\n",
      "\u001b[1m683/683\u001b[0m \u001b[32m━━━━━━━━━━━━━━━━━━━━\u001b[0m\u001b[37m\u001b[0m \u001b[1m1s\u001b[0m 769us/step - loss: 226973.1719 - mae: 259.8091 - mse: 226973.1719 - val_loss: 318777.0938 - val_mae: 290.6785 - val_mse: 318777.0938\n",
      "Epoch 214/300\n",
      "\u001b[1m683/683\u001b[0m \u001b[32m━━━━━━━━━━━━━━━━━━━━\u001b[0m\u001b[37m\u001b[0m \u001b[1m1s\u001b[0m 771us/step - loss: 232617.7500 - mae: 262.8894 - mse: 232617.7500 - val_loss: 305350.0000 - val_mae: 284.4826 - val_mse: 305350.0000\n",
      "Epoch 215/300\n",
      "\u001b[1m683/683\u001b[0m \u001b[32m━━━━━━━━━━━━━━━━━━━━\u001b[0m\u001b[37m\u001b[0m \u001b[1m1s\u001b[0m 786us/step - loss: 237309.8906 - mae: 263.7871 - mse: 237309.8906 - val_loss: 350998.8438 - val_mae: 303.3221 - val_mse: 350998.8438\n",
      "Epoch 216/300\n",
      "\u001b[1m683/683\u001b[0m \u001b[32m━━━━━━━━━━━━━━━━━━━━\u001b[0m\u001b[37m\u001b[0m \u001b[1m1s\u001b[0m 767us/step - loss: 238810.3438 - mae: 265.7043 - mse: 238810.3438 - val_loss: 322812.0000 - val_mae: 313.2837 - val_mse: 322812.0000\n",
      "Epoch 217/300\n",
      "\u001b[1m683/683\u001b[0m \u001b[32m━━━━━━━━━━━━━━━━━━━━\u001b[0m\u001b[37m\u001b[0m \u001b[1m1s\u001b[0m 774us/step - loss: 240286.0156 - mae: 268.3022 - mse: 240286.0156 - val_loss: 312560.1250 - val_mae: 293.4475 - val_mse: 312560.1250\n",
      "Epoch 218/300\n",
      "\u001b[1m683/683\u001b[0m \u001b[32m━━━━━━━━━━━━━━━━━━━━\u001b[0m\u001b[37m\u001b[0m \u001b[1m1s\u001b[0m 772us/step - loss: 233516.9219 - mae: 263.4639 - mse: 233516.9219 - val_loss: 307487.5312 - val_mae: 297.3414 - val_mse: 307487.5312\n",
      "Epoch 219/300\n",
      "\u001b[1m683/683\u001b[0m \u001b[32m━━━━━━━━━━━━━━━━━━━━\u001b[0m\u001b[37m\u001b[0m \u001b[1m1s\u001b[0m 778us/step - loss: 231883.2500 - mae: 262.3048 - mse: 231883.2500 - val_loss: 332850.4688 - val_mae: 291.6469 - val_mse: 332850.4688\n",
      "Epoch 220/300\n",
      "\u001b[1m683/683\u001b[0m \u001b[32m━━━━━━━━━━━━━━━━━━━━\u001b[0m\u001b[37m\u001b[0m \u001b[1m1s\u001b[0m 770us/step - loss: 227194.2500 - mae: 259.5560 - mse: 227194.2500 - val_loss: 311447.6250 - val_mae: 288.7893 - val_mse: 311447.6250\n",
      "Epoch 221/300\n",
      "\u001b[1m683/683\u001b[0m \u001b[32m━━━━━━━━━━━━━━━━━━━━\u001b[0m\u001b[37m\u001b[0m \u001b[1m1s\u001b[0m 764us/step - loss: 228575.7656 - mae: 259.7185 - mse: 228575.7656 - val_loss: 334810.5938 - val_mae: 292.8750 - val_mse: 334810.5938\n",
      "Epoch 222/300\n",
      "\u001b[1m683/683\u001b[0m \u001b[32m━━━━━━━━━━━━━━━━━━━━\u001b[0m\u001b[37m\u001b[0m \u001b[1m1s\u001b[0m 775us/step - loss: 230805.0000 - mae: 262.0552 - mse: 230805.0000 - val_loss: 309780.1250 - val_mae: 301.6314 - val_mse: 309780.1250\n",
      "Epoch 223/300\n",
      "\u001b[1m683/683\u001b[0m \u001b[32m━━━━━━━━━━━━━━━━━━━━\u001b[0m\u001b[37m\u001b[0m \u001b[1m1s\u001b[0m 780us/step - loss: 231032.9844 - mae: 261.1988 - mse: 231032.9844 - val_loss: 319222.0938 - val_mae: 297.2106 - val_mse: 319222.0938\n",
      "Epoch 224/300\n",
      "\u001b[1m683/683\u001b[0m \u001b[32m━━━━━━━━━━━━━━━━━━━━\u001b[0m\u001b[37m\u001b[0m \u001b[1m1s\u001b[0m 769us/step - loss: 224444.6562 - mae: 256.8928 - mse: 224444.6562 - val_loss: 305872.6562 - val_mae: 289.4712 - val_mse: 305872.6562\n",
      "Epoch 225/300\n",
      "\u001b[1m683/683\u001b[0m \u001b[32m━━━━━━━━━━━━━━━━━━━━\u001b[0m\u001b[37m\u001b[0m \u001b[1m1s\u001b[0m 769us/step - loss: 233340.2500 - mae: 261.1349 - mse: 233340.2500 - val_loss: 309516.5625 - val_mae: 290.6281 - val_mse: 309516.5625\n",
      "Epoch 226/300\n",
      "\u001b[1m683/683\u001b[0m \u001b[32m━━━━━━━━━━━━━━━━━━━━\u001b[0m\u001b[37m\u001b[0m \u001b[1m1s\u001b[0m 769us/step - loss: 232206.6406 - mae: 261.7417 - mse: 232206.6406 - val_loss: 306188.0312 - val_mae: 289.4691 - val_mse: 306188.0312\n",
      "Epoch 227/300\n",
      "\u001b[1m683/683\u001b[0m \u001b[32m━━━━━━━━━━━━━━━━━━━━\u001b[0m\u001b[37m\u001b[0m \u001b[1m1s\u001b[0m 785us/step - loss: 225869.4062 - mae: 258.2983 - mse: 225869.4062 - val_loss: 333055.6562 - val_mae: 301.4200 - val_mse: 333055.6562\n",
      "Epoch 228/300\n",
      "\u001b[1m683/683\u001b[0m \u001b[32m━━━━━━━━━━━━━━━━━━━━\u001b[0m\u001b[37m\u001b[0m \u001b[1m1s\u001b[0m 776us/step - loss: 225446.9531 - mae: 258.0674 - mse: 225446.9531 - val_loss: 314340.1250 - val_mae: 298.3710 - val_mse: 314340.1250\n",
      "Epoch 229/300\n",
      "\u001b[1m683/683\u001b[0m \u001b[32m━━━━━━━━━━━━━━━━━━━━\u001b[0m\u001b[37m\u001b[0m \u001b[1m1s\u001b[0m 767us/step - loss: 239498.6562 - mae: 265.1159 - mse: 239498.6562 - val_loss: 301820.3750 - val_mae: 287.6016 - val_mse: 301820.3750\n",
      "Epoch 230/300\n",
      "\u001b[1m683/683\u001b[0m \u001b[32m━━━━━━━━━━━━━━━━━━━━\u001b[0m\u001b[37m\u001b[0m \u001b[1m1s\u001b[0m 766us/step - loss: 233374.2500 - mae: 261.0992 - mse: 233374.2500 - val_loss: 305912.3438 - val_mae: 287.8435 - val_mse: 305912.3438\n",
      "Epoch 231/300\n",
      "\u001b[1m683/683\u001b[0m \u001b[32m━━━━━━━━━━━━━━━━━━━━\u001b[0m\u001b[37m\u001b[0m \u001b[1m1s\u001b[0m 787us/step - loss: 237251.3438 - mae: 265.3705 - mse: 237251.3438 - val_loss: 303008.5938 - val_mae: 286.2314 - val_mse: 303008.5938\n",
      "Epoch 232/300\n",
      "\u001b[1m683/683\u001b[0m \u001b[32m━━━━━━━━━━━━━━━━━━━━\u001b[0m\u001b[37m\u001b[0m \u001b[1m1s\u001b[0m 773us/step - loss: 227347.8281 - mae: 259.4183 - mse: 227347.8281 - val_loss: 305752.4688 - val_mae: 296.7288 - val_mse: 305752.4688\n",
      "Epoch 233/300\n",
      "\u001b[1m683/683\u001b[0m \u001b[32m━━━━━━━━━━━━━━━━━━━━\u001b[0m\u001b[37m\u001b[0m \u001b[1m1s\u001b[0m 775us/step - loss: 224523.6562 - mae: 259.5144 - mse: 224523.6562 - val_loss: 352633.5312 - val_mae: 337.0703 - val_mse: 352633.5312\n",
      "Epoch 234/300\n",
      "\u001b[1m683/683\u001b[0m \u001b[32m━━━━━━━━━━━━━━━━━━━━\u001b[0m\u001b[37m\u001b[0m \u001b[1m1s\u001b[0m 773us/step - loss: 237132.6719 - mae: 262.2775 - mse: 237132.6719 - val_loss: 306652.3750 - val_mae: 295.2507 - val_mse: 306652.3750\n",
      "Epoch 235/300\n",
      "\u001b[1m683/683\u001b[0m \u001b[32m━━━━━━━━━━━━━━━━━━━━\u001b[0m\u001b[37m\u001b[0m \u001b[1m1s\u001b[0m 776us/step - loss: 228275.3125 - mae: 259.1958 - mse: 228275.3125 - val_loss: 311965.1875 - val_mae: 292.9415 - val_mse: 311965.1875\n",
      "Epoch 236/300\n",
      "\u001b[1m683/683\u001b[0m \u001b[32m━━━━━━━━━━━━━━━━━━━━\u001b[0m\u001b[37m\u001b[0m \u001b[1m1s\u001b[0m 776us/step - loss: 232974.6875 - mae: 261.6058 - mse: 232974.6875 - val_loss: 322942.6562 - val_mae: 289.2338 - val_mse: 322942.6562\n",
      "Epoch 237/300\n",
      "\u001b[1m683/683\u001b[0m \u001b[32m━━━━━━━━━━━━━━━━━━━━\u001b[0m\u001b[37m\u001b[0m \u001b[1m1s\u001b[0m 776us/step - loss: 231698.6250 - mae: 262.5399 - mse: 231698.6250 - val_loss: 313337.6562 - val_mae: 290.9357 - val_mse: 313337.6562\n",
      "Epoch 238/300\n",
      "\u001b[1m683/683\u001b[0m \u001b[32m━━━━━━━━━━━━━━━━━━━━\u001b[0m\u001b[37m\u001b[0m \u001b[1m1s\u001b[0m 777us/step - loss: 232917.4844 - mae: 264.0783 - mse: 232917.4844 - val_loss: 308250.6250 - val_mae: 284.8131 - val_mse: 308250.6250\n",
      "Epoch 239/300\n",
      "\u001b[1m683/683\u001b[0m \u001b[32m━━━━━━━━━━━━━━━━━━━━\u001b[0m\u001b[37m\u001b[0m \u001b[1m1s\u001b[0m 782us/step - loss: 223588.8438 - mae: 258.4339 - mse: 223588.8438 - val_loss: 321899.5312 - val_mae: 292.8273 - val_mse: 321899.5312\n",
      "Epoch 240/300\n",
      "\u001b[1m683/683\u001b[0m \u001b[32m━━━━━━━━━━━━━━━━━━━━\u001b[0m\u001b[37m\u001b[0m \u001b[1m1s\u001b[0m 775us/step - loss: 228481.3281 - mae: 259.5306 - mse: 228481.3281 - val_loss: 316972.7188 - val_mae: 289.7097 - val_mse: 316972.7188\n",
      "Epoch 241/300\n",
      "\u001b[1m683/683\u001b[0m \u001b[32m━━━━━━━━━━━━━━━━━━━━\u001b[0m\u001b[37m\u001b[0m \u001b[1m1s\u001b[0m 778us/step - loss: 226792.3594 - mae: 259.5816 - mse: 226792.3594 - val_loss: 323372.7188 - val_mae: 294.1273 - val_mse: 323372.7188\n",
      "Epoch 242/300\n",
      "\u001b[1m683/683\u001b[0m \u001b[32m━━━━━━━━━━━━━━━━━━━━\u001b[0m\u001b[37m\u001b[0m \u001b[1m1s\u001b[0m 785us/step - loss: 222769.7812 - mae: 257.4369 - mse: 222769.7812 - val_loss: 309944.3125 - val_mae: 291.2596 - val_mse: 309944.3125\n",
      "Epoch 243/300\n",
      "\u001b[1m683/683\u001b[0m \u001b[32m━━━━━━━━━━━━━━━━━━━━\u001b[0m\u001b[37m\u001b[0m \u001b[1m1s\u001b[0m 779us/step - loss: 224817.6875 - mae: 257.7452 - mse: 224817.6875 - val_loss: 313227.4062 - val_mae: 292.4117 - val_mse: 313227.4062\n",
      "Epoch 244/300\n",
      "\u001b[1m683/683\u001b[0m \u001b[32m━━━━━━━━━━━━━━━━━━━━\u001b[0m\u001b[37m\u001b[0m \u001b[1m1s\u001b[0m 777us/step - loss: 235142.2812 - mae: 262.9062 - mse: 235142.2812 - val_loss: 383671.4688 - val_mae: 342.3439 - val_mse: 383671.4688\n",
      "Epoch 245/300\n",
      "\u001b[1m683/683\u001b[0m \u001b[32m━━━━━━━━━━━━━━━━━━━━\u001b[0m\u001b[37m\u001b[0m \u001b[1m1s\u001b[0m 780us/step - loss: 225199.3438 - mae: 257.7267 - mse: 225199.3438 - val_loss: 312259.0938 - val_mae: 300.8849 - val_mse: 312259.0938\n",
      "Epoch 246/300\n",
      "\u001b[1m683/683\u001b[0m \u001b[32m━━━━━━━━━━━━━━━━━━━━\u001b[0m\u001b[37m\u001b[0m \u001b[1m1s\u001b[0m 787us/step - loss: 222887.5000 - mae: 257.5588 - mse: 222887.5000 - val_loss: 309564.2812 - val_mae: 295.1384 - val_mse: 309564.2812\n",
      "Epoch 247/300\n",
      "\u001b[1m683/683\u001b[0m \u001b[32m━━━━━━━━━━━━━━━━━━━━\u001b[0m\u001b[37m\u001b[0m \u001b[1m1s\u001b[0m 775us/step - loss: 217433.5000 - mae: 258.2999 - mse: 217433.5000 - val_loss: 329091.7500 - val_mae: 293.7675 - val_mse: 329091.7500\n",
      "Epoch 248/300\n",
      "\u001b[1m683/683\u001b[0m \u001b[32m━━━━━━━━━━━━━━━━━━━━\u001b[0m\u001b[37m\u001b[0m \u001b[1m1s\u001b[0m 771us/step - loss: 224685.8906 - mae: 259.6162 - mse: 224685.8906 - val_loss: 309165.5000 - val_mae: 288.7743 - val_mse: 309165.5000\n",
      "Epoch 249/300\n",
      "\u001b[1m683/683\u001b[0m \u001b[32m━━━━━━━━━━━━━━━━━━━━\u001b[0m\u001b[37m\u001b[0m \u001b[1m1s\u001b[0m 772us/step - loss: 220329.8438 - mae: 256.8434 - mse: 220329.8438 - val_loss: 313799.5625 - val_mae: 297.5769 - val_mse: 313799.5625\n",
      "Epoch 250/300\n",
      "\u001b[1m683/683\u001b[0m \u001b[32m━━━━━━━━━━━━━━━━━━━━\u001b[0m\u001b[37m\u001b[0m \u001b[1m1s\u001b[0m 787us/step - loss: 229896.6406 - mae: 262.0397 - mse: 229896.6406 - val_loss: 309437.2812 - val_mae: 293.6879 - val_mse: 309437.2812\n",
      "Epoch 251/300\n",
      "\u001b[1m683/683\u001b[0m \u001b[32m━━━━━━━━━━━━━━━━━━━━\u001b[0m\u001b[37m\u001b[0m \u001b[1m1s\u001b[0m 779us/step - loss: 215955.7812 - mae: 255.1288 - mse: 215955.7812 - val_loss: 309000.1875 - val_mae: 287.2015 - val_mse: 309000.1875\n",
      "Epoch 252/300\n",
      "\u001b[1m683/683\u001b[0m \u001b[32m━━━━━━━━━━━━━━━━━━━━\u001b[0m\u001b[37m\u001b[0m \u001b[1m1s\u001b[0m 775us/step - loss: 227503.0000 - mae: 260.3295 - mse: 227503.0000 - val_loss: 314922.3125 - val_mae: 289.2339 - val_mse: 314922.3125\n",
      "Epoch 253/300\n",
      "\u001b[1m683/683\u001b[0m \u001b[32m━━━━━━━━━━━━━━━━━━━━\u001b[0m\u001b[37m\u001b[0m \u001b[1m1s\u001b[0m 772us/step - loss: 218246.0625 - mae: 256.2550 - mse: 218246.0625 - val_loss: 309831.5000 - val_mae: 295.1732 - val_mse: 309831.5000\n",
      "Epoch 254/300\n",
      "\u001b[1m683/683\u001b[0m \u001b[32m━━━━━━━━━━━━━━━━━━━━\u001b[0m\u001b[37m\u001b[0m \u001b[1m1s\u001b[0m 786us/step - loss: 224516.6250 - mae: 256.8663 - mse: 224516.6250 - val_loss: 314052.4375 - val_mae: 298.4112 - val_mse: 314052.4375\n",
      "Epoch 255/300\n",
      "\u001b[1m683/683\u001b[0m \u001b[32m━━━━━━━━━━━━━━━━━━━━\u001b[0m\u001b[37m\u001b[0m \u001b[1m1s\u001b[0m 776us/step - loss: 223094.1875 - mae: 256.0887 - mse: 223094.1875 - val_loss: 307479.3125 - val_mae: 288.4467 - val_mse: 307479.3125\n",
      "Epoch 256/300\n",
      "\u001b[1m683/683\u001b[0m \u001b[32m━━━━━━━━━━━━━━━━━━━━\u001b[0m\u001b[37m\u001b[0m \u001b[1m1s\u001b[0m 775us/step - loss: 225354.0625 - mae: 256.1304 - mse: 225354.0625 - val_loss: 336149.2812 - val_mae: 319.1114 - val_mse: 336149.2812\n",
      "Epoch 257/300\n",
      "\u001b[1m683/683\u001b[0m \u001b[32m━━━━━━━━━━━━━━━━━━━━\u001b[0m\u001b[37m\u001b[0m \u001b[1m1s\u001b[0m 771us/step - loss: 223454.0156 - mae: 259.3994 - mse: 223454.0156 - val_loss: 325299.0000 - val_mae: 292.7197 - val_mse: 325299.0000\n",
      "Epoch 258/300\n",
      "\u001b[1m683/683\u001b[0m \u001b[32m━━━━━━━━━━━━━━━━━━━━\u001b[0m\u001b[37m\u001b[0m \u001b[1m1s\u001b[0m 787us/step - loss: 231086.8594 - mae: 261.9810 - mse: 231086.8594 - val_loss: 306494.4062 - val_mae: 291.5892 - val_mse: 306494.4062\n",
      "Epoch 259/300\n",
      "\u001b[1m683/683\u001b[0m \u001b[32m━━━━━━━━━━━━━━━━━━━━\u001b[0m\u001b[37m\u001b[0m \u001b[1m1s\u001b[0m 775us/step - loss: 215850.8125 - mae: 253.2064 - mse: 215850.8125 - val_loss: 310870.5312 - val_mae: 288.8441 - val_mse: 310870.5312\n",
      "Epoch 260/300\n",
      "\u001b[1m683/683\u001b[0m \u001b[32m━━━━━━━━━━━━━━━━━━━━\u001b[0m\u001b[37m\u001b[0m \u001b[1m1s\u001b[0m 774us/step - loss: 217209.7344 - mae: 252.9180 - mse: 217209.7344 - val_loss: 313189.4688 - val_mae: 298.4688 - val_mse: 313189.4688\n",
      "Epoch 261/300\n",
      "\u001b[1m683/683\u001b[0m \u001b[32m━━━━━━━━━━━━━━━━━━━━\u001b[0m\u001b[37m\u001b[0m \u001b[1m1s\u001b[0m 775us/step - loss: 222904.3438 - mae: 256.8650 - mse: 222904.3438 - val_loss: 330219.3438 - val_mae: 297.1722 - val_mse: 330219.3438\n",
      "Epoch 262/300\n",
      "\u001b[1m683/683\u001b[0m \u001b[32m━━━━━━━━━━━━━━━━━━━━\u001b[0m\u001b[37m\u001b[0m \u001b[1m1s\u001b[0m 790us/step - loss: 219124.8594 - mae: 255.4745 - mse: 219124.8594 - val_loss: 309059.4688 - val_mae: 287.4419 - val_mse: 309059.4688\n",
      "Epoch 263/300\n",
      "\u001b[1m683/683\u001b[0m \u001b[32m━━━━━━━━━━━━━━━━━━━━\u001b[0m\u001b[37m\u001b[0m \u001b[1m1s\u001b[0m 778us/step - loss: 238272.4219 - mae: 265.9712 - mse: 238272.4219 - val_loss: 309637.8750 - val_mae: 289.6097 - val_mse: 309637.8750\n",
      "Epoch 264/300\n",
      "\u001b[1m683/683\u001b[0m \u001b[32m━━━━━━━━━━━━━━━━━━━━\u001b[0m\u001b[37m\u001b[0m \u001b[1m1s\u001b[0m 777us/step - loss: 233051.5625 - mae: 262.3237 - mse: 233051.5625 - val_loss: 319057.6562 - val_mae: 293.3587 - val_mse: 319057.6562\n",
      "Epoch 265/300\n",
      "\u001b[1m683/683\u001b[0m \u001b[32m━━━━━━━━━━━━━━━━━━━━\u001b[0m\u001b[37m\u001b[0m \u001b[1m1s\u001b[0m 773us/step - loss: 223796.0625 - mae: 259.0184 - mse: 223796.0625 - val_loss: 305386.9062 - val_mae: 287.7007 - val_mse: 305386.9062\n",
      "Epoch 266/300\n",
      "\u001b[1m683/683\u001b[0m \u001b[32m━━━━━━━━━━━━━━━━━━━━\u001b[0m\u001b[37m\u001b[0m \u001b[1m1s\u001b[0m 789us/step - loss: 225168.1719 - mae: 257.8999 - mse: 225168.1719 - val_loss: 315944.5000 - val_mae: 288.7009 - val_mse: 315944.5000\n",
      "Epoch 267/300\n",
      "\u001b[1m683/683\u001b[0m \u001b[32m━━━━━━━━━━━━━━━━━━━━\u001b[0m\u001b[37m\u001b[0m \u001b[1m1s\u001b[0m 776us/step - loss: 223808.9531 - mae: 256.9935 - mse: 223808.9531 - val_loss: 345377.6250 - val_mae: 321.4216 - val_mse: 345377.6250\n",
      "Epoch 268/300\n",
      "\u001b[1m683/683\u001b[0m \u001b[32m━━━━━━━━━━━━━━━━━━━━\u001b[0m\u001b[37m\u001b[0m \u001b[1m1s\u001b[0m 774us/step - loss: 214039.1875 - mae: 255.0468 - mse: 214039.1875 - val_loss: 337588.4375 - val_mae: 311.9036 - val_mse: 337588.4375\n",
      "Epoch 269/300\n",
      "\u001b[1m683/683\u001b[0m \u001b[32m━━━━━━━━━━━━━━━━━━━━\u001b[0m\u001b[37m\u001b[0m \u001b[1m1s\u001b[0m 787us/step - loss: 215084.7344 - mae: 255.5081 - mse: 215084.7344 - val_loss: 315119.7500 - val_mae: 295.2827 - val_mse: 315119.7500\n",
      "Epoch 270/300\n",
      "\u001b[1m683/683\u001b[0m \u001b[32m━━━━━━━━━━━━━━━━━━━━\u001b[0m\u001b[37m\u001b[0m \u001b[1m1s\u001b[0m 769us/step - loss: 219082.6719 - mae: 256.8351 - mse: 219082.6719 - val_loss: 319423.7812 - val_mae: 293.9759 - val_mse: 319423.7812\n",
      "Epoch 271/300\n",
      "\u001b[1m683/683\u001b[0m \u001b[32m━━━━━━━━━━━━━━━━━━━━\u001b[0m\u001b[37m\u001b[0m \u001b[1m1s\u001b[0m 782us/step - loss: 208242.0938 - mae: 249.4327 - mse: 208242.0938 - val_loss: 328130.2188 - val_mae: 307.6993 - val_mse: 328130.2188\n",
      "Epoch 272/300\n",
      "\u001b[1m683/683\u001b[0m \u001b[32m━━━━━━━━━━━━━━━━━━━━\u001b[0m\u001b[37m\u001b[0m \u001b[1m1s\u001b[0m 772us/step - loss: 220410.8906 - mae: 256.1512 - mse: 220410.8906 - val_loss: 322791.0625 - val_mae: 305.4254 - val_mse: 322791.0625\n",
      "Epoch 273/300\n",
      "\u001b[1m683/683\u001b[0m \u001b[32m━━━━━━━━━━━━━━━━━━━━\u001b[0m\u001b[37m\u001b[0m \u001b[1m1s\u001b[0m 786us/step - loss: 226860.5312 - mae: 257.6290 - mse: 226860.5312 - val_loss: 326346.3750 - val_mae: 294.9720 - val_mse: 326346.3750\n",
      "Epoch 274/300\n",
      "\u001b[1m683/683\u001b[0m \u001b[32m━━━━━━━━━━━━━━━━━━━━\u001b[0m\u001b[37m\u001b[0m \u001b[1m1s\u001b[0m 775us/step - loss: 213640.7188 - mae: 254.1060 - mse: 213640.7188 - val_loss: 322339.8438 - val_mae: 293.4283 - val_mse: 322339.8438\n",
      "Epoch 275/300\n",
      "\u001b[1m683/683\u001b[0m \u001b[32m━━━━━━━━━━━━━━━━━━━━\u001b[0m\u001b[37m\u001b[0m \u001b[1m1s\u001b[0m 766us/step - loss: 219070.2031 - mae: 255.7432 - mse: 219070.2031 - val_loss: 331089.0938 - val_mae: 293.7018 - val_mse: 331089.0938\n",
      "Epoch 276/300\n",
      "\u001b[1m683/683\u001b[0m \u001b[32m━━━━━━━━━━━━━━━━━━━━\u001b[0m\u001b[37m\u001b[0m \u001b[1m1s\u001b[0m 768us/step - loss: 228764.6875 - mae: 258.6340 - mse: 228764.6875 - val_loss: 374017.7500 - val_mae: 317.4947 - val_mse: 374017.7500\n",
      "Epoch 277/300\n",
      "\u001b[1m683/683\u001b[0m \u001b[32m━━━━━━━━━━━━━━━━━━━━\u001b[0m\u001b[37m\u001b[0m \u001b[1m1s\u001b[0m 784us/step - loss: 217518.5469 - mae: 255.4673 - mse: 217518.5469 - val_loss: 308287.3438 - val_mae: 286.7446 - val_mse: 308287.3438\n",
      "Epoch 278/300\n",
      "\u001b[1m683/683\u001b[0m \u001b[32m━━━━━━━━━━━━━━━━━━━━\u001b[0m\u001b[37m\u001b[0m \u001b[1m1s\u001b[0m 771us/step - loss: 215842.8594 - mae: 256.1279 - mse: 215842.8594 - val_loss: 318884.2188 - val_mae: 302.1307 - val_mse: 318884.2188\n",
      "Epoch 279/300\n",
      "\u001b[1m683/683\u001b[0m \u001b[32m━━━━━━━━━━━━━━━━━━━━\u001b[0m\u001b[37m\u001b[0m \u001b[1m1s\u001b[0m 765us/step - loss: 210542.5156 - mae: 255.7404 - mse: 210542.5156 - val_loss: 316993.3750 - val_mae: 300.1419 - val_mse: 316993.3750\n",
      "Epoch 280/300\n",
      "\u001b[1m683/683\u001b[0m \u001b[32m━━━━━━━━━━━━━━━━━━━━\u001b[0m\u001b[37m\u001b[0m \u001b[1m1s\u001b[0m 778us/step - loss: 222204.3594 - mae: 256.0648 - mse: 222204.3594 - val_loss: 305146.3125 - val_mae: 288.4274 - val_mse: 305146.3125\n",
      "Epoch 281/300\n",
      "\u001b[1m683/683\u001b[0m \u001b[32m━━━━━━━━━━━━━━━━━━━━\u001b[0m\u001b[37m\u001b[0m \u001b[1m1s\u001b[0m 782us/step - loss: 224356.1719 - mae: 257.7968 - mse: 224356.1719 - val_loss: 306503.2188 - val_mae: 295.9733 - val_mse: 306503.2188\n",
      "Epoch 282/300\n",
      "\u001b[1m683/683\u001b[0m \u001b[32m━━━━━━━━━━━━━━━━━━━━\u001b[0m\u001b[37m\u001b[0m \u001b[1m1s\u001b[0m 785us/step - loss: 206020.0156 - mae: 249.5947 - mse: 206020.0156 - val_loss: 316766.1250 - val_mae: 292.3050 - val_mse: 316766.1250\n",
      "Epoch 283/300\n",
      "\u001b[1m683/683\u001b[0m \u001b[32m━━━━━━━━━━━━━━━━━━━━\u001b[0m\u001b[37m\u001b[0m \u001b[1m1s\u001b[0m 772us/step - loss: 209459.2812 - mae: 253.2435 - mse: 209459.2812 - val_loss: 314797.9062 - val_mae: 285.5422 - val_mse: 314797.9062\n",
      "Epoch 284/300\n",
      "\u001b[1m683/683\u001b[0m \u001b[32m━━━━━━━━━━━━━━━━━━━━\u001b[0m\u001b[37m\u001b[0m \u001b[1m1s\u001b[0m 776us/step - loss: 214114.2656 - mae: 254.3352 - mse: 214114.2656 - val_loss: 325967.8750 - val_mae: 301.8024 - val_mse: 325967.8750\n",
      "Epoch 285/300\n",
      "\u001b[1m683/683\u001b[0m \u001b[32m━━━━━━━━━━━━━━━━━━━━\u001b[0m\u001b[37m\u001b[0m \u001b[1m1s\u001b[0m 787us/step - loss: 217883.9844 - mae: 255.1230 - mse: 217883.9844 - val_loss: 348427.9062 - val_mae: 307.4266 - val_mse: 348427.9062\n",
      "Epoch 286/300\n",
      "\u001b[1m683/683\u001b[0m \u001b[32m━━━━━━━━━━━━━━━━━━━━\u001b[0m\u001b[37m\u001b[0m \u001b[1m1s\u001b[0m 776us/step - loss: 231918.5312 - mae: 262.4540 - mse: 231918.5312 - val_loss: 311668.6562 - val_mae: 289.5150 - val_mse: 311668.6562\n",
      "Epoch 287/300\n",
      "\u001b[1m683/683\u001b[0m \u001b[32m━━━━━━━━━━━━━━━━━━━━\u001b[0m\u001b[37m\u001b[0m \u001b[1m1s\u001b[0m 772us/step - loss: 207800.2812 - mae: 250.6230 - mse: 207800.2812 - val_loss: 345119.2500 - val_mae: 315.0547 - val_mse: 345119.2500\n",
      "Epoch 288/300\n",
      "\u001b[1m683/683\u001b[0m \u001b[32m━━━━━━━━━━━━━━━━━━━━\u001b[0m\u001b[37m\u001b[0m \u001b[1m1s\u001b[0m 774us/step - loss: 218099.7812 - mae: 256.6227 - mse: 218099.7812 - val_loss: 311181.5938 - val_mae: 294.5476 - val_mse: 311181.5938\n",
      "Epoch 289/300\n",
      "\u001b[1m683/683\u001b[0m \u001b[32m━━━━━━━━━━━━━━━━━━━━\u001b[0m\u001b[37m\u001b[0m \u001b[1m1s\u001b[0m 794us/step - loss: 211931.6250 - mae: 251.6085 - mse: 211931.6250 - val_loss: 312593.8438 - val_mae: 296.6972 - val_mse: 312593.8438\n",
      "Epoch 290/300\n",
      "\u001b[1m683/683\u001b[0m \u001b[32m━━━━━━━━━━━━━━━━━━━━\u001b[0m\u001b[37m\u001b[0m \u001b[1m1s\u001b[0m 778us/step - loss: 215423.3438 - mae: 257.2794 - mse: 215423.3438 - val_loss: 325969.4688 - val_mae: 304.7475 - val_mse: 325969.4688\n",
      "Epoch 291/300\n",
      "\u001b[1m683/683\u001b[0m \u001b[32m━━━━━━━━━━━━━━━━━━━━\u001b[0m\u001b[37m\u001b[0m \u001b[1m1s\u001b[0m 781us/step - loss: 212715.4375 - mae: 251.8090 - mse: 212715.4375 - val_loss: 332677.4062 - val_mae: 304.1289 - val_mse: 332677.4062\n",
      "Epoch 292/300\n",
      "\u001b[1m683/683\u001b[0m \u001b[32m━━━━━━━━━━━━━━━━━━━━\u001b[0m\u001b[37m\u001b[0m \u001b[1m1s\u001b[0m 779us/step - loss: 215399.2812 - mae: 255.1477 - mse: 215399.2812 - val_loss: 329251.7188 - val_mae: 313.2998 - val_mse: 329251.7188\n",
      "Epoch 293/300\n",
      "\u001b[1m683/683\u001b[0m \u001b[32m━━━━━━━━━━━━━━━━━━━━\u001b[0m\u001b[37m\u001b[0m \u001b[1m1s\u001b[0m 791us/step - loss: 217856.4844 - mae: 256.2019 - mse: 217856.4844 - val_loss: 315797.7188 - val_mae: 292.8070 - val_mse: 315797.7188\n",
      "Epoch 294/300\n",
      "\u001b[1m683/683\u001b[0m \u001b[32m━━━━━━━━━━━━━━━━━━━━\u001b[0m\u001b[37m\u001b[0m \u001b[1m1s\u001b[0m 777us/step - loss: 211946.6562 - mae: 254.3614 - mse: 211946.6562 - val_loss: 314629.3125 - val_mae: 296.0828 - val_mse: 314629.3125\n",
      "Epoch 295/300\n",
      "\u001b[1m683/683\u001b[0m \u001b[32m━━━━━━━━━━━━━━━━━━━━\u001b[0m\u001b[37m\u001b[0m \u001b[1m1s\u001b[0m 775us/step - loss: 212415.6406 - mae: 251.9958 - mse: 212415.6406 - val_loss: 327733.2812 - val_mae: 294.8191 - val_mse: 327733.2812\n",
      "Epoch 296/300\n",
      "\u001b[1m683/683\u001b[0m \u001b[32m━━━━━━━━━━━━━━━━━━━━\u001b[0m\u001b[37m\u001b[0m \u001b[1m1s\u001b[0m 797us/step - loss: 225171.7344 - mae: 256.1062 - mse: 225171.7344 - val_loss: 339001.0312 - val_mae: 296.6193 - val_mse: 339001.0312\n",
      "Epoch 297/300\n",
      "\u001b[1m683/683\u001b[0m \u001b[32m━━━━━━━━━━━━━━━━━━━━\u001b[0m\u001b[37m\u001b[0m \u001b[1m1s\u001b[0m 775us/step - loss: 216482.1250 - mae: 256.7345 - mse: 216482.1250 - val_loss: 318111.1562 - val_mae: 292.0764 - val_mse: 318111.1562\n",
      "Epoch 298/300\n",
      "\u001b[1m683/683\u001b[0m \u001b[32m━━━━━━━━━━━━━━━━━━━━\u001b[0m\u001b[37m\u001b[0m \u001b[1m1s\u001b[0m 785us/step - loss: 205941.1719 - mae: 249.2326 - mse: 205941.1719 - val_loss: 348476.3750 - val_mae: 309.0494 - val_mse: 348476.3750\n",
      "Epoch 299/300\n",
      "\u001b[1m683/683\u001b[0m \u001b[32m━━━━━━━━━━━━━━━━━━━━\u001b[0m\u001b[37m\u001b[0m \u001b[1m1s\u001b[0m 782us/step - loss: 217405.8281 - mae: 254.9082 - mse: 217405.8281 - val_loss: 363691.2500 - val_mae: 327.8195 - val_mse: 363691.2500\n",
      "Epoch 300/300\n",
      "\u001b[1m683/683\u001b[0m \u001b[32m━━━━━━━━━━━━━━━━━━━━\u001b[0m\u001b[37m\u001b[0m \u001b[1m1s\u001b[0m 788us/step - loss: 215993.2969 - mae: 257.1718 - mse: 215993.2969 - val_loss: 319122.5000 - val_mae: 295.4747 - val_mse: 319122.5000\n"
     ]
    }
   ],
   "source": [
    "batch_size = 64\n",
    "n_epochs = 300\n",
    "history = nn_reg2.fit(X_train, y_train,\n",
    "                      epochs=n_epochs,\n",
    "                      batch_size=batch_size,\n",
    "                      validation_split=0.1)"
   ]
  },
  {
   "cell_type": "code",
   "execution_count": 21,
   "id": "1ec6c294-69a8-4194-8d14-8924edd959cc",
   "metadata": {},
   "outputs": [
    {
     "name": "stdout",
     "output_type": "stream",
     "text": [
      "dict_keys(['loss', 'mae', 'mse', 'val_loss', 'val_mae', 'val_mse'])\n"
     ]
    }
   ],
   "source": [
    "print(history.history.keys())"
   ]
  },
  {
   "cell_type": "code",
   "execution_count": 22,
   "id": "384bbfed-a46b-48ef-8d92-d12bd4c8ac7c",
   "metadata": {},
   "outputs": [
    {
     "data": {
      "image/png": "[encoded data removed]",
      "text/plain": [
       "<Figure size 800x500 with 1 Axes>"
      ]
     },
     "metadata": {},
     "output_type": "display_data"
    }
   ],
   "source": [
    "cfig, ax = plt.subplots(figsize=(8,5))\n",
    "ax.plot(np.log(history.history['loss']), label='Training Loss')\n",
    "ax.plot(np.log(history.history['val_loss']), label='Validation Loss')\n",
    "ax.set_title(\"log(Loss) vs. epochs\", fontsize=15)\n",
    "ax.set_xlabel(\"epoch number\", fontsize=14)\n",
    "ax.legend(fontsize=12)\n",
    "ax.set_ylim(12,14)\n",
    "ax.grid();"
   ]
  }
 ],
 "metadata": {
  "kernelspec": {
   "display_name": "Python 3 (ipykernel)",
   "language": "python",
   "name": "python3"
  },
  "language_info": {
   "codemirror_mode": {
    "name": "ipython",
    "version": 3
   },
   "file_extension": ".py",
   "mimetype": "text/x-python",
   "name": "python",
   "nbconvert_exporter": "python",
   "pygments_lexer": "ipython3",
   "version": "3.12.4"
  }
 },
 "nbformat": 4,
 "nbformat_minor": 5
}
